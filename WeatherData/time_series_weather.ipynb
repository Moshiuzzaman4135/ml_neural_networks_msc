{
 "cells": [
  {
   "cell_type": "code",
   "execution_count": 1,
   "id": "2cd7b33d",
   "metadata": {},
   "outputs": [],
   "source": [
    "import pandas as pd\n",
    "import numpy as np"
   ]
  },
  {
   "cell_type": "code",
   "execution_count": 2,
   "id": "004b1b5b",
   "metadata": {},
   "outputs": [],
   "source": [
    "data = pd.read_csv('./weatherHistory.csv')"
   ]
  },
  {
   "cell_type": "code",
   "execution_count": 3,
   "id": "89efc736",
   "metadata": {},
   "outputs": [
    {
     "data": {
      "text/html": [
       "<div>\n",
       "<style scoped>\n",
       "    .dataframe tbody tr th:only-of-type {\n",
       "        vertical-align: middle;\n",
       "    }\n",
       "\n",
       "    .dataframe tbody tr th {\n",
       "        vertical-align: top;\n",
       "    }\n",
       "\n",
       "    .dataframe thead th {\n",
       "        text-align: right;\n",
       "    }\n",
       "</style>\n",
       "<table border=\"1\" class=\"dataframe\">\n",
       "  <thead>\n",
       "    <tr style=\"text-align: right;\">\n",
       "      <th></th>\n",
       "      <th>Formatted Date</th>\n",
       "      <th>Summary</th>\n",
       "      <th>Precip Type</th>\n",
       "      <th>Temperature (C)</th>\n",
       "      <th>Apparent Temperature (C)</th>\n",
       "      <th>Humidity</th>\n",
       "      <th>Wind Speed (km/h)</th>\n",
       "      <th>Wind Bearing (degrees)</th>\n",
       "      <th>Visibility (km)</th>\n",
       "      <th>Loud Cover</th>\n",
       "      <th>Pressure (millibars)</th>\n",
       "      <th>Daily Summary</th>\n",
       "    </tr>\n",
       "  </thead>\n",
       "  <tbody>\n",
       "    <tr>\n",
       "      <th>0</th>\n",
       "      <td>2006-04-01 00:00:00.000 +0200</td>\n",
       "      <td>Partly Cloudy</td>\n",
       "      <td>rain</td>\n",
       "      <td>9.472222</td>\n",
       "      <td>7.388889</td>\n",
       "      <td>0.89</td>\n",
       "      <td>14.1197</td>\n",
       "      <td>251.0</td>\n",
       "      <td>15.8263</td>\n",
       "      <td>0.0</td>\n",
       "      <td>1015.13</td>\n",
       "      <td>Partly cloudy throughout the day.</td>\n",
       "    </tr>\n",
       "    <tr>\n",
       "      <th>1</th>\n",
       "      <td>2006-04-01 01:00:00.000 +0200</td>\n",
       "      <td>Partly Cloudy</td>\n",
       "      <td>rain</td>\n",
       "      <td>9.355556</td>\n",
       "      <td>7.227778</td>\n",
       "      <td>0.86</td>\n",
       "      <td>14.2646</td>\n",
       "      <td>259.0</td>\n",
       "      <td>15.8263</td>\n",
       "      <td>0.0</td>\n",
       "      <td>1015.63</td>\n",
       "      <td>Partly cloudy throughout the day.</td>\n",
       "    </tr>\n",
       "    <tr>\n",
       "      <th>2</th>\n",
       "      <td>2006-04-01 02:00:00.000 +0200</td>\n",
       "      <td>Mostly Cloudy</td>\n",
       "      <td>rain</td>\n",
       "      <td>9.377778</td>\n",
       "      <td>9.377778</td>\n",
       "      <td>0.89</td>\n",
       "      <td>3.9284</td>\n",
       "      <td>204.0</td>\n",
       "      <td>14.9569</td>\n",
       "      <td>0.0</td>\n",
       "      <td>1015.94</td>\n",
       "      <td>Partly cloudy throughout the day.</td>\n",
       "    </tr>\n",
       "    <tr>\n",
       "      <th>3</th>\n",
       "      <td>2006-04-01 03:00:00.000 +0200</td>\n",
       "      <td>Partly Cloudy</td>\n",
       "      <td>rain</td>\n",
       "      <td>8.288889</td>\n",
       "      <td>5.944444</td>\n",
       "      <td>0.83</td>\n",
       "      <td>14.1036</td>\n",
       "      <td>269.0</td>\n",
       "      <td>15.8263</td>\n",
       "      <td>0.0</td>\n",
       "      <td>1016.41</td>\n",
       "      <td>Partly cloudy throughout the day.</td>\n",
       "    </tr>\n",
       "    <tr>\n",
       "      <th>4</th>\n",
       "      <td>2006-04-01 04:00:00.000 +0200</td>\n",
       "      <td>Mostly Cloudy</td>\n",
       "      <td>rain</td>\n",
       "      <td>8.755556</td>\n",
       "      <td>6.977778</td>\n",
       "      <td>0.83</td>\n",
       "      <td>11.0446</td>\n",
       "      <td>259.0</td>\n",
       "      <td>15.8263</td>\n",
       "      <td>0.0</td>\n",
       "      <td>1016.51</td>\n",
       "      <td>Partly cloudy throughout the day.</td>\n",
       "    </tr>\n",
       "  </tbody>\n",
       "</table>\n",
       "</div>"
      ],
      "text/plain": [
       "                  Formatted Date        Summary Precip Type  Temperature (C)  \\\n",
       "0  2006-04-01 00:00:00.000 +0200  Partly Cloudy        rain         9.472222   \n",
       "1  2006-04-01 01:00:00.000 +0200  Partly Cloudy        rain         9.355556   \n",
       "2  2006-04-01 02:00:00.000 +0200  Mostly Cloudy        rain         9.377778   \n",
       "3  2006-04-01 03:00:00.000 +0200  Partly Cloudy        rain         8.288889   \n",
       "4  2006-04-01 04:00:00.000 +0200  Mostly Cloudy        rain         8.755556   \n",
       "\n",
       "   Apparent Temperature (C)  Humidity  Wind Speed (km/h)  \\\n",
       "0                  7.388889      0.89            14.1197   \n",
       "1                  7.227778      0.86            14.2646   \n",
       "2                  9.377778      0.89             3.9284   \n",
       "3                  5.944444      0.83            14.1036   \n",
       "4                  6.977778      0.83            11.0446   \n",
       "\n",
       "   Wind Bearing (degrees)  Visibility (km)  Loud Cover  Pressure (millibars)  \\\n",
       "0                   251.0          15.8263         0.0               1015.13   \n",
       "1                   259.0          15.8263         0.0               1015.63   \n",
       "2                   204.0          14.9569         0.0               1015.94   \n",
       "3                   269.0          15.8263         0.0               1016.41   \n",
       "4                   259.0          15.8263         0.0               1016.51   \n",
       "\n",
       "                       Daily Summary  \n",
       "0  Partly cloudy throughout the day.  \n",
       "1  Partly cloudy throughout the day.  \n",
       "2  Partly cloudy throughout the day.  \n",
       "3  Partly cloudy throughout the day.  \n",
       "4  Partly cloudy throughout the day.  "
      ]
     },
     "execution_count": 3,
     "metadata": {},
     "output_type": "execute_result"
    }
   ],
   "source": [
    "data.head()"
   ]
  },
  {
   "cell_type": "code",
   "execution_count": 4,
   "id": "a479de7d",
   "metadata": {},
   "outputs": [],
   "source": [
    "data_fromated = data.loc[:,['Formatted Date','Temperature (C)']]"
   ]
  },
  {
   "cell_type": "code",
   "execution_count": 5,
   "id": "a6685c77",
   "metadata": {},
   "outputs": [
    {
     "data": {
      "text/html": [
       "<div>\n",
       "<style scoped>\n",
       "    .dataframe tbody tr th:only-of-type {\n",
       "        vertical-align: middle;\n",
       "    }\n",
       "\n",
       "    .dataframe tbody tr th {\n",
       "        vertical-align: top;\n",
       "    }\n",
       "\n",
       "    .dataframe thead th {\n",
       "        text-align: right;\n",
       "    }\n",
       "</style>\n",
       "<table border=\"1\" class=\"dataframe\">\n",
       "  <thead>\n",
       "    <tr style=\"text-align: right;\">\n",
       "      <th></th>\n",
       "      <th>Formatted Date</th>\n",
       "      <th>Temperature (C)</th>\n",
       "    </tr>\n",
       "  </thead>\n",
       "  <tbody>\n",
       "    <tr>\n",
       "      <th>0</th>\n",
       "      <td>2006-04-01 00:00:00.000 +0200</td>\n",
       "      <td>9.472222</td>\n",
       "    </tr>\n",
       "    <tr>\n",
       "      <th>1</th>\n",
       "      <td>2006-04-01 01:00:00.000 +0200</td>\n",
       "      <td>9.355556</td>\n",
       "    </tr>\n",
       "    <tr>\n",
       "      <th>2</th>\n",
       "      <td>2006-04-01 02:00:00.000 +0200</td>\n",
       "      <td>9.377778</td>\n",
       "    </tr>\n",
       "    <tr>\n",
       "      <th>3</th>\n",
       "      <td>2006-04-01 03:00:00.000 +0200</td>\n",
       "      <td>8.288889</td>\n",
       "    </tr>\n",
       "    <tr>\n",
       "      <th>4</th>\n",
       "      <td>2006-04-01 04:00:00.000 +0200</td>\n",
       "      <td>8.755556</td>\n",
       "    </tr>\n",
       "  </tbody>\n",
       "</table>\n",
       "</div>"
      ],
      "text/plain": [
       "                  Formatted Date  Temperature (C)\n",
       "0  2006-04-01 00:00:00.000 +0200         9.472222\n",
       "1  2006-04-01 01:00:00.000 +0200         9.355556\n",
       "2  2006-04-01 02:00:00.000 +0200         9.377778\n",
       "3  2006-04-01 03:00:00.000 +0200         8.288889\n",
       "4  2006-04-01 04:00:00.000 +0200         8.755556"
      ]
     },
     "execution_count": 5,
     "metadata": {},
     "output_type": "execute_result"
    }
   ],
   "source": [
    "data_fromated.head()"
   ]
  },
  {
   "cell_type": "code",
   "execution_count": 6,
   "id": "0b1666e3",
   "metadata": {},
   "outputs": [],
   "source": [
    "data_fromated['D'] = pd.to_datetime(data_fromated['Formatted Date'])"
   ]
  },
  {
   "cell_type": "code",
   "execution_count": 7,
   "id": "a6ffae5c",
   "metadata": {},
   "outputs": [
    {
     "data": {
      "text/html": [
       "<div>\n",
       "<style scoped>\n",
       "    .dataframe tbody tr th:only-of-type {\n",
       "        vertical-align: middle;\n",
       "    }\n",
       "\n",
       "    .dataframe tbody tr th {\n",
       "        vertical-align: top;\n",
       "    }\n",
       "\n",
       "    .dataframe thead th {\n",
       "        text-align: right;\n",
       "    }\n",
       "</style>\n",
       "<table border=\"1\" class=\"dataframe\">\n",
       "  <thead>\n",
       "    <tr style=\"text-align: right;\">\n",
       "      <th></th>\n",
       "      <th>Formatted Date</th>\n",
       "      <th>Temperature (C)</th>\n",
       "      <th>D</th>\n",
       "    </tr>\n",
       "  </thead>\n",
       "  <tbody>\n",
       "    <tr>\n",
       "      <th>0</th>\n",
       "      <td>2006-04-01 00:00:00.000 +0200</td>\n",
       "      <td>9.472222</td>\n",
       "      <td>2006-04-01 00:00:00+02:00</td>\n",
       "    </tr>\n",
       "    <tr>\n",
       "      <th>1</th>\n",
       "      <td>2006-04-01 01:00:00.000 +0200</td>\n",
       "      <td>9.355556</td>\n",
       "      <td>2006-04-01 01:00:00+02:00</td>\n",
       "    </tr>\n",
       "    <tr>\n",
       "      <th>2</th>\n",
       "      <td>2006-04-01 02:00:00.000 +0200</td>\n",
       "      <td>9.377778</td>\n",
       "      <td>2006-04-01 02:00:00+02:00</td>\n",
       "    </tr>\n",
       "    <tr>\n",
       "      <th>3</th>\n",
       "      <td>2006-04-01 03:00:00.000 +0200</td>\n",
       "      <td>8.288889</td>\n",
       "      <td>2006-04-01 03:00:00+02:00</td>\n",
       "    </tr>\n",
       "    <tr>\n",
       "      <th>4</th>\n",
       "      <td>2006-04-01 04:00:00.000 +0200</td>\n",
       "      <td>8.755556</td>\n",
       "      <td>2006-04-01 04:00:00+02:00</td>\n",
       "    </tr>\n",
       "  </tbody>\n",
       "</table>\n",
       "</div>"
      ],
      "text/plain": [
       "                  Formatted Date  Temperature (C)                          D\n",
       "0  2006-04-01 00:00:00.000 +0200         9.472222  2006-04-01 00:00:00+02:00\n",
       "1  2006-04-01 01:00:00.000 +0200         9.355556  2006-04-01 01:00:00+02:00\n",
       "2  2006-04-01 02:00:00.000 +0200         9.377778  2006-04-01 02:00:00+02:00\n",
       "3  2006-04-01 03:00:00.000 +0200         8.288889  2006-04-01 03:00:00+02:00\n",
       "4  2006-04-01 04:00:00.000 +0200         8.755556  2006-04-01 04:00:00+02:00"
      ]
     },
     "execution_count": 7,
     "metadata": {},
     "output_type": "execute_result"
    }
   ],
   "source": [
    "data_fromated.head()"
   ]
  },
  {
   "cell_type": "code",
   "execution_count": 8,
   "id": "1aa22d46",
   "metadata": {},
   "outputs": [],
   "source": [
    "# data_fromated['Formatted Date'][0]"
   ]
  },
  {
   "cell_type": "code",
   "execution_count": 9,
   "id": "5ed2a513",
   "metadata": {},
   "outputs": [],
   "source": [
    "# from datetime import datetime\n",
    "# str_time = datetime.time(data_fromated['Formatted Date'][0])"
   ]
  },
  {
   "cell_type": "code",
   "execution_count": 10,
   "id": "6d9c0819",
   "metadata": {},
   "outputs": [],
   "source": [
    "# print(str_time)"
   ]
  },
  {
   "cell_type": "code",
   "execution_count": 11,
   "id": "df8f3d87",
   "metadata": {},
   "outputs": [],
   "source": [
    "from datetime import datetime\n",
    "\n",
    "data_fromated['Time'] = [datetime.time(d) for d in data_fromated['D']] \n",
    "\n"
   ]
  },
  {
   "cell_type": "code",
   "execution_count": 12,
   "id": "4aa3584e",
   "metadata": {},
   "outputs": [
    {
     "data": {
      "text/html": [
       "<div>\n",
       "<style scoped>\n",
       "    .dataframe tbody tr th:only-of-type {\n",
       "        vertical-align: middle;\n",
       "    }\n",
       "\n",
       "    .dataframe tbody tr th {\n",
       "        vertical-align: top;\n",
       "    }\n",
       "\n",
       "    .dataframe thead th {\n",
       "        text-align: right;\n",
       "    }\n",
       "</style>\n",
       "<table border=\"1\" class=\"dataframe\">\n",
       "  <thead>\n",
       "    <tr style=\"text-align: right;\">\n",
       "      <th></th>\n",
       "      <th>Formatted Date</th>\n",
       "      <th>Temperature (C)</th>\n",
       "      <th>D</th>\n",
       "      <th>Time</th>\n",
       "    </tr>\n",
       "  </thead>\n",
       "  <tbody>\n",
       "    <tr>\n",
       "      <th>0</th>\n",
       "      <td>2006-04-01 00:00:00.000 +0200</td>\n",
       "      <td>9.472222</td>\n",
       "      <td>2006-04-01 00:00:00+02:00</td>\n",
       "      <td>00:00:00</td>\n",
       "    </tr>\n",
       "    <tr>\n",
       "      <th>1</th>\n",
       "      <td>2006-04-01 01:00:00.000 +0200</td>\n",
       "      <td>9.355556</td>\n",
       "      <td>2006-04-01 01:00:00+02:00</td>\n",
       "      <td>01:00:00</td>\n",
       "    </tr>\n",
       "    <tr>\n",
       "      <th>2</th>\n",
       "      <td>2006-04-01 02:00:00.000 +0200</td>\n",
       "      <td>9.377778</td>\n",
       "      <td>2006-04-01 02:00:00+02:00</td>\n",
       "      <td>02:00:00</td>\n",
       "    </tr>\n",
       "    <tr>\n",
       "      <th>3</th>\n",
       "      <td>2006-04-01 03:00:00.000 +0200</td>\n",
       "      <td>8.288889</td>\n",
       "      <td>2006-04-01 03:00:00+02:00</td>\n",
       "      <td>03:00:00</td>\n",
       "    </tr>\n",
       "    <tr>\n",
       "      <th>4</th>\n",
       "      <td>2006-04-01 04:00:00.000 +0200</td>\n",
       "      <td>8.755556</td>\n",
       "      <td>2006-04-01 04:00:00+02:00</td>\n",
       "      <td>04:00:00</td>\n",
       "    </tr>\n",
       "  </tbody>\n",
       "</table>\n",
       "</div>"
      ],
      "text/plain": [
       "                  Formatted Date  Temperature (C)                          D  \\\n",
       "0  2006-04-01 00:00:00.000 +0200         9.472222  2006-04-01 00:00:00+02:00   \n",
       "1  2006-04-01 01:00:00.000 +0200         9.355556  2006-04-01 01:00:00+02:00   \n",
       "2  2006-04-01 02:00:00.000 +0200         9.377778  2006-04-01 02:00:00+02:00   \n",
       "3  2006-04-01 03:00:00.000 +0200         8.288889  2006-04-01 03:00:00+02:00   \n",
       "4  2006-04-01 04:00:00.000 +0200         8.755556  2006-04-01 04:00:00+02:00   \n",
       "\n",
       "       Time  \n",
       "0  00:00:00  \n",
       "1  01:00:00  \n",
       "2  02:00:00  \n",
       "3  03:00:00  \n",
       "4  04:00:00  "
      ]
     },
     "execution_count": 12,
     "metadata": {},
     "output_type": "execute_result"
    }
   ],
   "source": [
    "data_fromated.head()"
   ]
  },
  {
   "cell_type": "code",
   "execution_count": 13,
   "id": "bc74f47c",
   "metadata": {},
   "outputs": [],
   "source": [
    "from datetime import datetime\n",
    "data_fromated['Date'] = [datetime.date(d) for d in data_fromated['D']] "
   ]
  },
  {
   "cell_type": "code",
   "execution_count": 14,
   "id": "4b9f54ba",
   "metadata": {},
   "outputs": [
    {
     "data": {
      "text/html": [
       "<div>\n",
       "<style scoped>\n",
       "    .dataframe tbody tr th:only-of-type {\n",
       "        vertical-align: middle;\n",
       "    }\n",
       "\n",
       "    .dataframe tbody tr th {\n",
       "        vertical-align: top;\n",
       "    }\n",
       "\n",
       "    .dataframe thead th {\n",
       "        text-align: right;\n",
       "    }\n",
       "</style>\n",
       "<table border=\"1\" class=\"dataframe\">\n",
       "  <thead>\n",
       "    <tr style=\"text-align: right;\">\n",
       "      <th></th>\n",
       "      <th>Formatted Date</th>\n",
       "      <th>Temperature (C)</th>\n",
       "      <th>D</th>\n",
       "      <th>Time</th>\n",
       "      <th>Date</th>\n",
       "    </tr>\n",
       "  </thead>\n",
       "  <tbody>\n",
       "    <tr>\n",
       "      <th>0</th>\n",
       "      <td>2006-04-01 00:00:00.000 +0200</td>\n",
       "      <td>9.472222</td>\n",
       "      <td>2006-04-01 00:00:00+02:00</td>\n",
       "      <td>00:00:00</td>\n",
       "      <td>2006-04-01</td>\n",
       "    </tr>\n",
       "    <tr>\n",
       "      <th>1</th>\n",
       "      <td>2006-04-01 01:00:00.000 +0200</td>\n",
       "      <td>9.355556</td>\n",
       "      <td>2006-04-01 01:00:00+02:00</td>\n",
       "      <td>01:00:00</td>\n",
       "      <td>2006-04-01</td>\n",
       "    </tr>\n",
       "    <tr>\n",
       "      <th>2</th>\n",
       "      <td>2006-04-01 02:00:00.000 +0200</td>\n",
       "      <td>9.377778</td>\n",
       "      <td>2006-04-01 02:00:00+02:00</td>\n",
       "      <td>02:00:00</td>\n",
       "      <td>2006-04-01</td>\n",
       "    </tr>\n",
       "    <tr>\n",
       "      <th>3</th>\n",
       "      <td>2006-04-01 03:00:00.000 +0200</td>\n",
       "      <td>8.288889</td>\n",
       "      <td>2006-04-01 03:00:00+02:00</td>\n",
       "      <td>03:00:00</td>\n",
       "      <td>2006-04-01</td>\n",
       "    </tr>\n",
       "    <tr>\n",
       "      <th>4</th>\n",
       "      <td>2006-04-01 04:00:00.000 +0200</td>\n",
       "      <td>8.755556</td>\n",
       "      <td>2006-04-01 04:00:00+02:00</td>\n",
       "      <td>04:00:00</td>\n",
       "      <td>2006-04-01</td>\n",
       "    </tr>\n",
       "  </tbody>\n",
       "</table>\n",
       "</div>"
      ],
      "text/plain": [
       "                  Formatted Date  Temperature (C)                          D  \\\n",
       "0  2006-04-01 00:00:00.000 +0200         9.472222  2006-04-01 00:00:00+02:00   \n",
       "1  2006-04-01 01:00:00.000 +0200         9.355556  2006-04-01 01:00:00+02:00   \n",
       "2  2006-04-01 02:00:00.000 +0200         9.377778  2006-04-01 02:00:00+02:00   \n",
       "3  2006-04-01 03:00:00.000 +0200         8.288889  2006-04-01 03:00:00+02:00   \n",
       "4  2006-04-01 04:00:00.000 +0200         8.755556  2006-04-01 04:00:00+02:00   \n",
       "\n",
       "       Time        Date  \n",
       "0  00:00:00  2006-04-01  \n",
       "1  01:00:00  2006-04-01  \n",
       "2  02:00:00  2006-04-01  \n",
       "3  03:00:00  2006-04-01  \n",
       "4  04:00:00  2006-04-01  "
      ]
     },
     "execution_count": 14,
     "metadata": {},
     "output_type": "execute_result"
    }
   ],
   "source": [
    "data_fromated.head()"
   ]
  },
  {
   "cell_type": "code",
   "execution_count": 15,
   "id": "a69c4eb2",
   "metadata": {},
   "outputs": [],
   "source": [
    "data_fromated = data_fromated.drop(columns=['D','Formatted Date'])"
   ]
  },
  {
   "cell_type": "code",
   "execution_count": 16,
   "id": "b3e47e4b",
   "metadata": {},
   "outputs": [
    {
     "data": {
      "text/html": [
       "<div>\n",
       "<style scoped>\n",
       "    .dataframe tbody tr th:only-of-type {\n",
       "        vertical-align: middle;\n",
       "    }\n",
       "\n",
       "    .dataframe tbody tr th {\n",
       "        vertical-align: top;\n",
       "    }\n",
       "\n",
       "    .dataframe thead th {\n",
       "        text-align: right;\n",
       "    }\n",
       "</style>\n",
       "<table border=\"1\" class=\"dataframe\">\n",
       "  <thead>\n",
       "    <tr style=\"text-align: right;\">\n",
       "      <th></th>\n",
       "      <th>Temperature (C)</th>\n",
       "      <th>Time</th>\n",
       "      <th>Date</th>\n",
       "    </tr>\n",
       "  </thead>\n",
       "  <tbody>\n",
       "    <tr>\n",
       "      <th>0</th>\n",
       "      <td>9.472222</td>\n",
       "      <td>00:00:00</td>\n",
       "      <td>2006-04-01</td>\n",
       "    </tr>\n",
       "    <tr>\n",
       "      <th>1</th>\n",
       "      <td>9.355556</td>\n",
       "      <td>01:00:00</td>\n",
       "      <td>2006-04-01</td>\n",
       "    </tr>\n",
       "    <tr>\n",
       "      <th>2</th>\n",
       "      <td>9.377778</td>\n",
       "      <td>02:00:00</td>\n",
       "      <td>2006-04-01</td>\n",
       "    </tr>\n",
       "    <tr>\n",
       "      <th>3</th>\n",
       "      <td>8.288889</td>\n",
       "      <td>03:00:00</td>\n",
       "      <td>2006-04-01</td>\n",
       "    </tr>\n",
       "    <tr>\n",
       "      <th>4</th>\n",
       "      <td>8.755556</td>\n",
       "      <td>04:00:00</td>\n",
       "      <td>2006-04-01</td>\n",
       "    </tr>\n",
       "  </tbody>\n",
       "</table>\n",
       "</div>"
      ],
      "text/plain": [
       "   Temperature (C)      Time        Date\n",
       "0         9.472222  00:00:00  2006-04-01\n",
       "1         9.355556  01:00:00  2006-04-01\n",
       "2         9.377778  02:00:00  2006-04-01\n",
       "3         8.288889  03:00:00  2006-04-01\n",
       "4         8.755556  04:00:00  2006-04-01"
      ]
     },
     "execution_count": 16,
     "metadata": {},
     "output_type": "execute_result"
    }
   ],
   "source": [
    "data_fromated.head()"
   ]
  },
  {
   "cell_type": "code",
   "execution_count": 17,
   "id": "ece6eac5",
   "metadata": {},
   "outputs": [],
   "source": [
    "data_filtered = data_fromated[data_fromated['Time']==datetime.time(datetime.strptime('00:00:00','%H:%M:%S'))]"
   ]
  },
  {
   "cell_type": "code",
   "execution_count": 18,
   "id": "2fa343e1",
   "metadata": {},
   "outputs": [
    {
     "data": {
      "text/plain": [
       "(4018, 3)"
      ]
     },
     "execution_count": 18,
     "metadata": {},
     "output_type": "execute_result"
    }
   ],
   "source": [
    "data_filtered.shape"
   ]
  },
  {
   "cell_type": "code",
   "execution_count": 19,
   "id": "d3ffcd25",
   "metadata": {},
   "outputs": [],
   "source": [
    "data_filtered= data_filtered.drop(columns='Time')"
   ]
  },
  {
   "cell_type": "code",
   "execution_count": 20,
   "id": "597ad142",
   "metadata": {},
   "outputs": [
    {
     "data": {
      "text/html": [
       "<div>\n",
       "<style scoped>\n",
       "    .dataframe tbody tr th:only-of-type {\n",
       "        vertical-align: middle;\n",
       "    }\n",
       "\n",
       "    .dataframe tbody tr th {\n",
       "        vertical-align: top;\n",
       "    }\n",
       "\n",
       "    .dataframe thead th {\n",
       "        text-align: right;\n",
       "    }\n",
       "</style>\n",
       "<table border=\"1\" class=\"dataframe\">\n",
       "  <thead>\n",
       "    <tr style=\"text-align: right;\">\n",
       "      <th></th>\n",
       "      <th>Temperature (C)</th>\n",
       "      <th>Date</th>\n",
       "    </tr>\n",
       "  </thead>\n",
       "  <tbody>\n",
       "    <tr>\n",
       "      <th>0</th>\n",
       "      <td>9.472222</td>\n",
       "      <td>2006-04-01</td>\n",
       "    </tr>\n",
       "    <tr>\n",
       "      <th>24</th>\n",
       "      <td>10.422222</td>\n",
       "      <td>2006-04-10</td>\n",
       "    </tr>\n",
       "    <tr>\n",
       "      <th>48</th>\n",
       "      <td>13.772222</td>\n",
       "      <td>2006-04-11</td>\n",
       "    </tr>\n",
       "    <tr>\n",
       "      <th>72</th>\n",
       "      <td>8.200000</td>\n",
       "      <td>2006-04-12</td>\n",
       "    </tr>\n",
       "    <tr>\n",
       "      <th>96</th>\n",
       "      <td>7.316667</td>\n",
       "      <td>2006-04-13</td>\n",
       "    </tr>\n",
       "    <tr>\n",
       "      <th>...</th>\n",
       "      <td>...</td>\n",
       "      <td>...</td>\n",
       "    </tr>\n",
       "    <tr>\n",
       "      <th>96333</th>\n",
       "      <td>18.805556</td>\n",
       "      <td>2016-09-05</td>\n",
       "    </tr>\n",
       "    <tr>\n",
       "      <th>96357</th>\n",
       "      <td>14.327778</td>\n",
       "      <td>2016-09-06</td>\n",
       "    </tr>\n",
       "    <tr>\n",
       "      <th>96381</th>\n",
       "      <td>17.222222</td>\n",
       "      <td>2016-09-07</td>\n",
       "    </tr>\n",
       "    <tr>\n",
       "      <th>96405</th>\n",
       "      <td>16.527778</td>\n",
       "      <td>2016-09-08</td>\n",
       "    </tr>\n",
       "    <tr>\n",
       "      <th>96429</th>\n",
       "      <td>17.755556</td>\n",
       "      <td>2016-09-09</td>\n",
       "    </tr>\n",
       "  </tbody>\n",
       "</table>\n",
       "<p>4018 rows × 2 columns</p>\n",
       "</div>"
      ],
      "text/plain": [
       "       Temperature (C)        Date\n",
       "0             9.472222  2006-04-01\n",
       "24           10.422222  2006-04-10\n",
       "48           13.772222  2006-04-11\n",
       "72            8.200000  2006-04-12\n",
       "96            7.316667  2006-04-13\n",
       "...                ...         ...\n",
       "96333        18.805556  2016-09-05\n",
       "96357        14.327778  2016-09-06\n",
       "96381        17.222222  2016-09-07\n",
       "96405        16.527778  2016-09-08\n",
       "96429        17.755556  2016-09-09\n",
       "\n",
       "[4018 rows x 2 columns]"
      ]
     },
     "execution_count": 20,
     "metadata": {},
     "output_type": "execute_result"
    }
   ],
   "source": [
    "data_filtered"
   ]
  },
  {
   "cell_type": "code",
   "execution_count": 21,
   "id": "40357ca1",
   "metadata": {},
   "outputs": [],
   "source": [
    "data_filtered['Date'] = pd.to_datetime(data_filtered['Date'])"
   ]
  },
  {
   "cell_type": "code",
   "execution_count": 22,
   "id": "4f8f4c14",
   "metadata": {},
   "outputs": [],
   "source": [
    "data_filtered = data_filtered.set_index('Date')"
   ]
  },
  {
   "cell_type": "code",
   "execution_count": 23,
   "id": "fd13af2a",
   "metadata": {},
   "outputs": [],
   "source": [
    "data_filtered.sort_index(inplace=True)"
   ]
  },
  {
   "cell_type": "code",
   "execution_count": 24,
   "id": "d58e956b",
   "metadata": {},
   "outputs": [
    {
     "data": {
      "text/html": [
       "<div>\n",
       "<style scoped>\n",
       "    .dataframe tbody tr th:only-of-type {\n",
       "        vertical-align: middle;\n",
       "    }\n",
       "\n",
       "    .dataframe tbody tr th {\n",
       "        vertical-align: top;\n",
       "    }\n",
       "\n",
       "    .dataframe thead th {\n",
       "        text-align: right;\n",
       "    }\n",
       "</style>\n",
       "<table border=\"1\" class=\"dataframe\">\n",
       "  <thead>\n",
       "    <tr style=\"text-align: right;\">\n",
       "      <th></th>\n",
       "      <th>Temperature (C)</th>\n",
       "    </tr>\n",
       "    <tr>\n",
       "      <th>Date</th>\n",
       "      <th></th>\n",
       "    </tr>\n",
       "  </thead>\n",
       "  <tbody>\n",
       "    <tr>\n",
       "      <th>2006-01-01</th>\n",
       "      <td>0.577778</td>\n",
       "    </tr>\n",
       "    <tr>\n",
       "      <th>2006-01-02</th>\n",
       "      <td>5.422222</td>\n",
       "    </tr>\n",
       "    <tr>\n",
       "      <th>2006-01-03</th>\n",
       "      <td>1.694444</td>\n",
       "    </tr>\n",
       "    <tr>\n",
       "      <th>2006-01-04</th>\n",
       "      <td>2.200000</td>\n",
       "    </tr>\n",
       "    <tr>\n",
       "      <th>2006-01-05</th>\n",
       "      <td>1.666667</td>\n",
       "    </tr>\n",
       "    <tr>\n",
       "      <th>...</th>\n",
       "      <td>...</td>\n",
       "    </tr>\n",
       "    <tr>\n",
       "      <th>2016-12-27</th>\n",
       "      <td>-0.677778</td>\n",
       "    </tr>\n",
       "    <tr>\n",
       "      <th>2016-12-28</th>\n",
       "      <td>-0.733333</td>\n",
       "    </tr>\n",
       "    <tr>\n",
       "      <th>2016-12-29</th>\n",
       "      <td>-0.783333</td>\n",
       "    </tr>\n",
       "    <tr>\n",
       "      <th>2016-12-30</th>\n",
       "      <td>-0.827778</td>\n",
       "    </tr>\n",
       "    <tr>\n",
       "      <th>2016-12-31</th>\n",
       "      <td>-0.872222</td>\n",
       "    </tr>\n",
       "  </tbody>\n",
       "</table>\n",
       "<p>4018 rows × 1 columns</p>\n",
       "</div>"
      ],
      "text/plain": [
       "            Temperature (C)\n",
       "Date                       \n",
       "2006-01-01         0.577778\n",
       "2006-01-02         5.422222\n",
       "2006-01-03         1.694444\n",
       "2006-01-04         2.200000\n",
       "2006-01-05         1.666667\n",
       "...                     ...\n",
       "2016-12-27        -0.677778\n",
       "2016-12-28        -0.733333\n",
       "2016-12-29        -0.783333\n",
       "2016-12-30        -0.827778\n",
       "2016-12-31        -0.872222\n",
       "\n",
       "[4018 rows x 1 columns]"
      ]
     },
     "execution_count": 24,
     "metadata": {},
     "output_type": "execute_result"
    }
   ],
   "source": [
    "data_filtered"
   ]
  },
  {
   "cell_type": "code",
   "execution_count": 26,
   "id": "79a38121",
   "metadata": {},
   "outputs": [],
   "source": [
    "# from statsmodels.tsa.seasonal import seasonal_decompose\n",
    "# result = seasonal_decompose(data_filtered['Temperature (C)'],model= 'additive')"
   ]
  },
  {
   "cell_type": "code",
   "execution_count": 27,
   "id": "3c257c1c",
   "metadata": {},
   "outputs": [
    {
     "data": {
      "text/plain": [
       "<AxesSubplot:xlabel='Date'>"
      ]
     },
     "execution_count": 27,
     "metadata": {},
     "output_type": "execute_result"
    },
    {
     "data": {
      "image/png": "[encoded data removed]",
      "text/plain": [
       "<Figure size 432x288 with 1 Axes>"
      ]
     },
     "metadata": {
      "needs_background": "light"
     },
     "output_type": "display_data"
    }
   ],
   "source": [
    "data_filtered.plot()"
   ]
  },
  {
   "cell_type": "code",
   "execution_count": 28,
   "id": "cf96eb22",
   "metadata": {},
   "outputs": [],
   "source": [
    "train, test = data_filtered[1:3200],data_filtered[3200:]"
   ]
  },
  {
   "cell_type": "code",
   "execution_count": 29,
   "id": "4b9927d2",
   "metadata": {},
   "outputs": [
    {
     "data": {
      "text/html": [
       "<div>\n",
       "<style scoped>\n",
       "    .dataframe tbody tr th:only-of-type {\n",
       "        vertical-align: middle;\n",
       "    }\n",
       "\n",
       "    .dataframe tbody tr th {\n",
       "        vertical-align: top;\n",
       "    }\n",
       "\n",
       "    .dataframe thead th {\n",
       "        text-align: right;\n",
       "    }\n",
       "</style>\n",
       "<table border=\"1\" class=\"dataframe\">\n",
       "  <thead>\n",
       "    <tr style=\"text-align: right;\">\n",
       "      <th></th>\n",
       "      <th>Temperature (C)</th>\n",
       "    </tr>\n",
       "    <tr>\n",
       "      <th>Date</th>\n",
       "      <th></th>\n",
       "    </tr>\n",
       "  </thead>\n",
       "  <tbody>\n",
       "    <tr>\n",
       "      <th>2006-01-02</th>\n",
       "      <td>5.422222</td>\n",
       "    </tr>\n",
       "    <tr>\n",
       "      <th>2006-01-03</th>\n",
       "      <td>1.694444</td>\n",
       "    </tr>\n",
       "    <tr>\n",
       "      <th>2006-01-04</th>\n",
       "      <td>2.200000</td>\n",
       "    </tr>\n",
       "    <tr>\n",
       "      <th>2006-01-05</th>\n",
       "      <td>1.666667</td>\n",
       "    </tr>\n",
       "    <tr>\n",
       "      <th>2006-01-06</th>\n",
       "      <td>1.805556</td>\n",
       "    </tr>\n",
       "    <tr>\n",
       "      <th>...</th>\n",
       "      <td>...</td>\n",
       "    </tr>\n",
       "    <tr>\n",
       "      <th>2014-10-01</th>\n",
       "      <td>10.072222</td>\n",
       "    </tr>\n",
       "    <tr>\n",
       "      <th>2014-10-02</th>\n",
       "      <td>16.088889</td>\n",
       "    </tr>\n",
       "    <tr>\n",
       "      <th>2014-10-03</th>\n",
       "      <td>13.916667</td>\n",
       "    </tr>\n",
       "    <tr>\n",
       "      <th>2014-10-04</th>\n",
       "      <td>13.288889</td>\n",
       "    </tr>\n",
       "    <tr>\n",
       "      <th>2014-10-05</th>\n",
       "      <td>11.688889</td>\n",
       "    </tr>\n",
       "  </tbody>\n",
       "</table>\n",
       "<p>3199 rows × 1 columns</p>\n",
       "</div>"
      ],
      "text/plain": [
       "            Temperature (C)\n",
       "Date                       \n",
       "2006-01-02         5.422222\n",
       "2006-01-03         1.694444\n",
       "2006-01-04         2.200000\n",
       "2006-01-05         1.666667\n",
       "2006-01-06         1.805556\n",
       "...                     ...\n",
       "2014-10-01        10.072222\n",
       "2014-10-02        16.088889\n",
       "2014-10-03        13.916667\n",
       "2014-10-04        13.288889\n",
       "2014-10-05        11.688889\n",
       "\n",
       "[3199 rows x 1 columns]"
      ]
     },
     "execution_count": 29,
     "metadata": {},
     "output_type": "execute_result"
    }
   ],
   "source": [
    "train"
   ]
  },
  {
   "cell_type": "code",
   "execution_count": 30,
   "id": "85d05b4d",
   "metadata": {},
   "outputs": [],
   "source": [
    "# train = train.squeeze()"
   ]
  },
  {
   "cell_type": "code",
   "execution_count": 31,
   "id": "e1df9d66",
   "metadata": {},
   "outputs": [],
   "source": [
    "# train"
   ]
  },
  {
   "cell_type": "code",
   "execution_count": 32,
   "id": "bf963a42",
   "metadata": {},
   "outputs": [],
   "source": [
    "# train = train.squeeze()\n",
    "# test =test.squeeze()"
   ]
  },
  {
   "cell_type": "code",
   "execution_count": 33,
   "id": "dd0d3a8d",
   "metadata": {},
   "outputs": [],
   "source": [
    "# test"
   ]
  },
  {
   "cell_type": "code",
   "execution_count": 34,
   "id": "9a2953da",
   "metadata": {},
   "outputs": [
    {
     "name": "stderr",
     "output_type": "stream",
     "text": [
      "C:\\Users\\shati\\.conda\\envs\\gpu_experimental\\lib\\site-packages\\statsmodels\\tsa\\base\\tsa_model.py:471: ValueWarning: A date index has been provided, but it has no associated frequency information and so will be ignored when e.g. forecasting.\n",
      "  self._init_dates(dates, freq)\n"
     ]
    }
   ],
   "source": [
    "from statsmodels.tsa.ar_model import AutoReg as AR\n",
    "model = AR(train,lags=365)\n",
    "model_fit = model.fit()"
   ]
  },
  {
   "cell_type": "code",
   "execution_count": 35,
   "id": "b8a0eae5",
   "metadata": {},
   "outputs": [
    {
     "name": "stderr",
     "output_type": "stream",
     "text": [
      "C:\\Users\\shati\\.conda\\envs\\gpu_experimental\\lib\\site-packages\\statsmodels\\tsa\\base\\tsa_model.py:834: ValueWarning: No supported index is available. Prediction results will be given with an integer index beginning at `start`.\n",
      "  return get_prediction_index(\n",
      "C:\\Users\\shati\\.conda\\envs\\gpu_experimental\\lib\\site-packages\\statsmodels\\tsa\\deterministic.py:302: UserWarning: Only PeriodIndexes, DatetimeIndexes with a frequency set, RangesIndexes, and Index with a unit increment support extending. The index is set will contain the position relative to the data length.\n",
      "  fcast_index = self._extend_index(index, steps, forecast_index)\n"
     ]
    }
   ],
   "source": [
    "predictions = model_fit.predict(start=len(train), end=len(train)+len(test)-1)"
   ]
  },
  {
   "cell_type": "code",
   "execution_count": 36,
   "id": "f7bc01c4",
   "metadata": {},
   "outputs": [
    {
     "data": {
      "text/plain": [
       "194.20975618238927"
      ]
     },
     "execution_count": 36,
     "metadata": {},
     "output_type": "execute_result"
    }
   ],
   "source": [
    "from sklearn.metrics import mean_squared_error\n",
    "from math import sqrt\n",
    "mse = mean_squared_error(test+test, predictions)\n",
    "mse"
   ]
  },
  {
   "cell_type": "code",
   "execution_count": 37,
   "id": "9a5b444a",
   "metadata": {},
   "outputs": [],
   "source": [
    "test_copy = test.copy()"
   ]
  },
  {
   "cell_type": "code",
   "execution_count": 38,
   "id": "1193317f",
   "metadata": {},
   "outputs": [],
   "source": [
    "test_copy['predictions'] = predictions.values"
   ]
  },
  {
   "cell_type": "code",
   "execution_count": 39,
   "id": "1e9d47ab",
   "metadata": {},
   "outputs": [
    {
     "data": {
      "text/html": [
       "<div>\n",
       "<style scoped>\n",
       "    .dataframe tbody tr th:only-of-type {\n",
       "        vertical-align: middle;\n",
       "    }\n",
       "\n",
       "    .dataframe tbody tr th {\n",
       "        vertical-align: top;\n",
       "    }\n",
       "\n",
       "    .dataframe thead th {\n",
       "        text-align: right;\n",
       "    }\n",
       "</style>\n",
       "<table border=\"1\" class=\"dataframe\">\n",
       "  <thead>\n",
       "    <tr style=\"text-align: right;\">\n",
       "      <th></th>\n",
       "      <th>Temperature (C)</th>\n",
       "      <th>predictions</th>\n",
       "    </tr>\n",
       "    <tr>\n",
       "      <th>Date</th>\n",
       "      <th></th>\n",
       "      <th></th>\n",
       "    </tr>\n",
       "  </thead>\n",
       "  <tbody>\n",
       "    <tr>\n",
       "      <th>2014-10-06</th>\n",
       "      <td>6.927778</td>\n",
       "      <td>12.124834</td>\n",
       "    </tr>\n",
       "    <tr>\n",
       "      <th>2014-10-07</th>\n",
       "      <td>13.661111</td>\n",
       "      <td>12.126884</td>\n",
       "    </tr>\n",
       "    <tr>\n",
       "      <th>2014-10-08</th>\n",
       "      <td>11.644444</td>\n",
       "      <td>10.799473</td>\n",
       "    </tr>\n",
       "    <tr>\n",
       "      <th>2014-10-09</th>\n",
       "      <td>12.827778</td>\n",
       "      <td>10.754897</td>\n",
       "    </tr>\n",
       "    <tr>\n",
       "      <th>2014-10-10</th>\n",
       "      <td>13.911111</td>\n",
       "      <td>10.133197</td>\n",
       "    </tr>\n",
       "    <tr>\n",
       "      <th>...</th>\n",
       "      <td>...</td>\n",
       "      <td>...</td>\n",
       "    </tr>\n",
       "    <tr>\n",
       "      <th>2016-12-27</th>\n",
       "      <td>-0.677778</td>\n",
       "      <td>2.022087</td>\n",
       "    </tr>\n",
       "    <tr>\n",
       "      <th>2016-12-28</th>\n",
       "      <td>-0.733333</td>\n",
       "      <td>1.927807</td>\n",
       "    </tr>\n",
       "    <tr>\n",
       "      <th>2016-12-29</th>\n",
       "      <td>-0.783333</td>\n",
       "      <td>1.861422</td>\n",
       "    </tr>\n",
       "    <tr>\n",
       "      <th>2016-12-30</th>\n",
       "      <td>-0.827778</td>\n",
       "      <td>1.866206</td>\n",
       "    </tr>\n",
       "    <tr>\n",
       "      <th>2016-12-31</th>\n",
       "      <td>-0.872222</td>\n",
       "      <td>1.660768</td>\n",
       "    </tr>\n",
       "  </tbody>\n",
       "</table>\n",
       "<p>818 rows × 2 columns</p>\n",
       "</div>"
      ],
      "text/plain": [
       "            Temperature (C)  predictions\n",
       "Date                                    \n",
       "2014-10-06         6.927778    12.124834\n",
       "2014-10-07        13.661111    12.126884\n",
       "2014-10-08        11.644444    10.799473\n",
       "2014-10-09        12.827778    10.754897\n",
       "2014-10-10        13.911111    10.133197\n",
       "...                     ...          ...\n",
       "2016-12-27        -0.677778     2.022087\n",
       "2016-12-28        -0.733333     1.927807\n",
       "2016-12-29        -0.783333     1.861422\n",
       "2016-12-30        -0.827778     1.866206\n",
       "2016-12-31        -0.872222     1.660768\n",
       "\n",
       "[818 rows x 2 columns]"
      ]
     },
     "execution_count": 39,
     "metadata": {},
     "output_type": "execute_result"
    }
   ],
   "source": [
    "test_copy"
   ]
  },
  {
   "cell_type": "code",
   "execution_count": 40,
   "id": "4a26b9d7",
   "metadata": {},
   "outputs": [
    {
     "data": {
      "text/plain": [
       "[<matplotlib.lines.Line2D at 0x23429e7a070>]"
      ]
     },
     "execution_count": 40,
     "metadata": {},
     "output_type": "execute_result"
    },
    {
     "data": {
      "image/png": "[encoded data removed]",
      "text/plain": [
       "<Figure size 1440x360 with 1 Axes>"
      ]
     },
     "metadata": {
      "needs_background": "light"
     },
     "output_type": "display_data"
    }
   ],
   "source": [
    "import matplotlib.pyplot as plt\n",
    "plt.figure(figsize=(20,5))\n",
    "plt.plot(test)\n",
    "plt.plot(test_copy['predictions'], color='red')"
   ]
  },
  {
   "cell_type": "code",
   "execution_count": null,
   "id": "549a5062",
   "metadata": {},
   "outputs": [],
   "source": []
  },
  {
   "cell_type": "code",
   "execution_count": null,
   "id": "afc1f8ee",
   "metadata": {},
   "outputs": [],
   "source": []
  }
 ],
 "metadata": {
  "kernelspec": {
   "display_name": "gpu_experimental",
   "language": "python",
   "name": "gpu_experimental"
  },
  "language_info": {
   "codemirror_mode": {
    "name": "ipython",
    "version": 3
   },
   "file_extension": ".py",
   "mimetype": "text/x-python",
   "name": "python",
   "nbconvert_exporter": "python",
   "pygments_lexer": "ipython3",
   "version": "3.8.12"
  }
 },
 "nbformat": 4,
 "nbformat_minor": 5
}
