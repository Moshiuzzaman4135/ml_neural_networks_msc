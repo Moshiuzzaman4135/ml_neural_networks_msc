{
 "cells": [
  {
   "cell_type": "code",
   "execution_count": 1,
   "id": "e510eb5b",
   "metadata": {},
   "outputs": [],
   "source": [
    "import pandas as pd\n",
    "import numpy as np\n",
    "from sklearn.pipeline import make_pipeline\n",
    "from sklearn.preprocessing import LabelEncoder\n",
    "from sklearn.preprocessing import OneHotEncoder\n",
    "from sklearn.compose import make_column_transformer\n",
    "from sklearn.model_selection import cross_val_predict\n",
    "from sklearn.metrics import confusion_matrix\n",
    "from sklearn.metrics import f1_score\n",
    "from sklearn.metrics import precision_score, recall_score\n",
    "import matplotlib as mpl\n",
    "import matplotlib.pyplot as plt\n",
    "from sklearn.metrics import precision_recall_curve\n",
    "from sklearn.metrics import roc_curve"
   ]
  },
  {
   "cell_type": "markdown",
   "id": "4172f408",
   "metadata": {},
   "source": [
    "# Loading the data"
   ]
  },
  {
   "cell_type": "code",
   "execution_count": 2,
   "id": "ef9eabd0",
   "metadata": {},
   "outputs": [],
   "source": [
    "weather = pd.read_csv('./weatherHistory.csv')"
   ]
  },
  {
   "cell_type": "code",
   "execution_count": 3,
   "id": "38c6bc99",
   "metadata": {},
   "outputs": [
    {
     "data": {
      "text/html": [
       "<div>\n",
       "<style scoped>\n",
       "    .dataframe tbody tr th:only-of-type {\n",
       "        vertical-align: middle;\n",
       "    }\n",
       "\n",
       "    .dataframe tbody tr th {\n",
       "        vertical-align: top;\n",
       "    }\n",
       "\n",
       "    .dataframe thead th {\n",
       "        text-align: right;\n",
       "    }\n",
       "</style>\n",
       "<table border=\"1\" class=\"dataframe\">\n",
       "  <thead>\n",
       "    <tr style=\"text-align: right;\">\n",
       "      <th></th>\n",
       "      <th>Formatted Date</th>\n",
       "      <th>Summary</th>\n",
       "      <th>Precip Type</th>\n",
       "      <th>Temperature (C)</th>\n",
       "      <th>Apparent Temperature (C)</th>\n",
       "      <th>Humidity</th>\n",
       "      <th>Wind Speed (km/h)</th>\n",
       "      <th>Wind Bearing (degrees)</th>\n",
       "      <th>Visibility (km)</th>\n",
       "      <th>Loud Cover</th>\n",
       "      <th>Pressure (millibars)</th>\n",
       "      <th>Daily Summary</th>\n",
       "    </tr>\n",
       "  </thead>\n",
       "  <tbody>\n",
       "    <tr>\n",
       "      <th>0</th>\n",
       "      <td>2006-04-01 00:00:00.000 +0200</td>\n",
       "      <td>Partly Cloudy</td>\n",
       "      <td>rain</td>\n",
       "      <td>9.472222</td>\n",
       "      <td>7.388889</td>\n",
       "      <td>0.89</td>\n",
       "      <td>14.1197</td>\n",
       "      <td>251.0</td>\n",
       "      <td>15.8263</td>\n",
       "      <td>0.0</td>\n",
       "      <td>1015.13</td>\n",
       "      <td>Partly cloudy throughout the day.</td>\n",
       "    </tr>\n",
       "    <tr>\n",
       "      <th>1</th>\n",
       "      <td>2006-04-01 01:00:00.000 +0200</td>\n",
       "      <td>Partly Cloudy</td>\n",
       "      <td>rain</td>\n",
       "      <td>9.355556</td>\n",
       "      <td>7.227778</td>\n",
       "      <td>0.86</td>\n",
       "      <td>14.2646</td>\n",
       "      <td>259.0</td>\n",
       "      <td>15.8263</td>\n",
       "      <td>0.0</td>\n",
       "      <td>1015.63</td>\n",
       "      <td>Partly cloudy throughout the day.</td>\n",
       "    </tr>\n",
       "    <tr>\n",
       "      <th>2</th>\n",
       "      <td>2006-04-01 02:00:00.000 +0200</td>\n",
       "      <td>Mostly Cloudy</td>\n",
       "      <td>rain</td>\n",
       "      <td>9.377778</td>\n",
       "      <td>9.377778</td>\n",
       "      <td>0.89</td>\n",
       "      <td>3.9284</td>\n",
       "      <td>204.0</td>\n",
       "      <td>14.9569</td>\n",
       "      <td>0.0</td>\n",
       "      <td>1015.94</td>\n",
       "      <td>Partly cloudy throughout the day.</td>\n",
       "    </tr>\n",
       "    <tr>\n",
       "      <th>3</th>\n",
       "      <td>2006-04-01 03:00:00.000 +0200</td>\n",
       "      <td>Partly Cloudy</td>\n",
       "      <td>rain</td>\n",
       "      <td>8.288889</td>\n",
       "      <td>5.944444</td>\n",
       "      <td>0.83</td>\n",
       "      <td>14.1036</td>\n",
       "      <td>269.0</td>\n",
       "      <td>15.8263</td>\n",
       "      <td>0.0</td>\n",
       "      <td>1016.41</td>\n",
       "      <td>Partly cloudy throughout the day.</td>\n",
       "    </tr>\n",
       "    <tr>\n",
       "      <th>4</th>\n",
       "      <td>2006-04-01 04:00:00.000 +0200</td>\n",
       "      <td>Mostly Cloudy</td>\n",
       "      <td>rain</td>\n",
       "      <td>8.755556</td>\n",
       "      <td>6.977778</td>\n",
       "      <td>0.83</td>\n",
       "      <td>11.0446</td>\n",
       "      <td>259.0</td>\n",
       "      <td>15.8263</td>\n",
       "      <td>0.0</td>\n",
       "      <td>1016.51</td>\n",
       "      <td>Partly cloudy throughout the day.</td>\n",
       "    </tr>\n",
       "    <tr>\n",
       "      <th>...</th>\n",
       "      <td>...</td>\n",
       "      <td>...</td>\n",
       "      <td>...</td>\n",
       "      <td>...</td>\n",
       "      <td>...</td>\n",
       "      <td>...</td>\n",
       "      <td>...</td>\n",
       "      <td>...</td>\n",
       "      <td>...</td>\n",
       "      <td>...</td>\n",
       "      <td>...</td>\n",
       "      <td>...</td>\n",
       "    </tr>\n",
       "    <tr>\n",
       "      <th>96448</th>\n",
       "      <td>2016-09-09 19:00:00.000 +0200</td>\n",
       "      <td>Partly Cloudy</td>\n",
       "      <td>rain</td>\n",
       "      <td>26.016667</td>\n",
       "      <td>26.016667</td>\n",
       "      <td>0.43</td>\n",
       "      <td>10.9963</td>\n",
       "      <td>31.0</td>\n",
       "      <td>16.1000</td>\n",
       "      <td>0.0</td>\n",
       "      <td>1014.36</td>\n",
       "      <td>Partly cloudy starting in the morning.</td>\n",
       "    </tr>\n",
       "    <tr>\n",
       "      <th>96449</th>\n",
       "      <td>2016-09-09 20:00:00.000 +0200</td>\n",
       "      <td>Partly Cloudy</td>\n",
       "      <td>rain</td>\n",
       "      <td>24.583333</td>\n",
       "      <td>24.583333</td>\n",
       "      <td>0.48</td>\n",
       "      <td>10.0947</td>\n",
       "      <td>20.0</td>\n",
       "      <td>15.5526</td>\n",
       "      <td>0.0</td>\n",
       "      <td>1015.16</td>\n",
       "      <td>Partly cloudy starting in the morning.</td>\n",
       "    </tr>\n",
       "    <tr>\n",
       "      <th>96450</th>\n",
       "      <td>2016-09-09 21:00:00.000 +0200</td>\n",
       "      <td>Partly Cloudy</td>\n",
       "      <td>rain</td>\n",
       "      <td>22.038889</td>\n",
       "      <td>22.038889</td>\n",
       "      <td>0.56</td>\n",
       "      <td>8.9838</td>\n",
       "      <td>30.0</td>\n",
       "      <td>16.1000</td>\n",
       "      <td>0.0</td>\n",
       "      <td>1015.66</td>\n",
       "      <td>Partly cloudy starting in the morning.</td>\n",
       "    </tr>\n",
       "    <tr>\n",
       "      <th>96451</th>\n",
       "      <td>2016-09-09 22:00:00.000 +0200</td>\n",
       "      <td>Partly Cloudy</td>\n",
       "      <td>rain</td>\n",
       "      <td>21.522222</td>\n",
       "      <td>21.522222</td>\n",
       "      <td>0.60</td>\n",
       "      <td>10.5294</td>\n",
       "      <td>20.0</td>\n",
       "      <td>16.1000</td>\n",
       "      <td>0.0</td>\n",
       "      <td>1015.95</td>\n",
       "      <td>Partly cloudy starting in the morning.</td>\n",
       "    </tr>\n",
       "    <tr>\n",
       "      <th>96452</th>\n",
       "      <td>2016-09-09 23:00:00.000 +0200</td>\n",
       "      <td>Partly Cloudy</td>\n",
       "      <td>rain</td>\n",
       "      <td>20.438889</td>\n",
       "      <td>20.438889</td>\n",
       "      <td>0.61</td>\n",
       "      <td>5.8765</td>\n",
       "      <td>39.0</td>\n",
       "      <td>15.5204</td>\n",
       "      <td>0.0</td>\n",
       "      <td>1016.16</td>\n",
       "      <td>Partly cloudy starting in the morning.</td>\n",
       "    </tr>\n",
       "  </tbody>\n",
       "</table>\n",
       "<p>96453 rows × 12 columns</p>\n",
       "</div>"
      ],
      "text/plain": [
       "                      Formatted Date        Summary Precip Type  \\\n",
       "0      2006-04-01 00:00:00.000 +0200  Partly Cloudy        rain   \n",
       "1      2006-04-01 01:00:00.000 +0200  Partly Cloudy        rain   \n",
       "2      2006-04-01 02:00:00.000 +0200  Mostly Cloudy        rain   \n",
       "3      2006-04-01 03:00:00.000 +0200  Partly Cloudy        rain   \n",
       "4      2006-04-01 04:00:00.000 +0200  Mostly Cloudy        rain   \n",
       "...                              ...            ...         ...   \n",
       "96448  2016-09-09 19:00:00.000 +0200  Partly Cloudy        rain   \n",
       "96449  2016-09-09 20:00:00.000 +0200  Partly Cloudy        rain   \n",
       "96450  2016-09-09 21:00:00.000 +0200  Partly Cloudy        rain   \n",
       "96451  2016-09-09 22:00:00.000 +0200  Partly Cloudy        rain   \n",
       "96452  2016-09-09 23:00:00.000 +0200  Partly Cloudy        rain   \n",
       "\n",
       "       Temperature (C)  Apparent Temperature (C)  Humidity  Wind Speed (km/h)  \\\n",
       "0             9.472222                  7.388889      0.89            14.1197   \n",
       "1             9.355556                  7.227778      0.86            14.2646   \n",
       "2             9.377778                  9.377778      0.89             3.9284   \n",
       "3             8.288889                  5.944444      0.83            14.1036   \n",
       "4             8.755556                  6.977778      0.83            11.0446   \n",
       "...                ...                       ...       ...                ...   \n",
       "96448        26.016667                 26.016667      0.43            10.9963   \n",
       "96449        24.583333                 24.583333      0.48            10.0947   \n",
       "96450        22.038889                 22.038889      0.56             8.9838   \n",
       "96451        21.522222                 21.522222      0.60            10.5294   \n",
       "96452        20.438889                 20.438889      0.61             5.8765   \n",
       "\n",
       "       Wind Bearing (degrees)  Visibility (km)  Loud Cover  \\\n",
       "0                       251.0          15.8263         0.0   \n",
       "1                       259.0          15.8263         0.0   \n",
       "2                       204.0          14.9569         0.0   \n",
       "3                       269.0          15.8263         0.0   \n",
       "4                       259.0          15.8263         0.0   \n",
       "...                       ...              ...         ...   \n",
       "96448                    31.0          16.1000         0.0   \n",
       "96449                    20.0          15.5526         0.0   \n",
       "96450                    30.0          16.1000         0.0   \n",
       "96451                    20.0          16.1000         0.0   \n",
       "96452                    39.0          15.5204         0.0   \n",
       "\n",
       "       Pressure (millibars)                           Daily Summary  \n",
       "0                   1015.13       Partly cloudy throughout the day.  \n",
       "1                   1015.63       Partly cloudy throughout the day.  \n",
       "2                   1015.94       Partly cloudy throughout the day.  \n",
       "3                   1016.41       Partly cloudy throughout the day.  \n",
       "4                   1016.51       Partly cloudy throughout the day.  \n",
       "...                     ...                                     ...  \n",
       "96448               1014.36  Partly cloudy starting in the morning.  \n",
       "96449               1015.16  Partly cloudy starting in the morning.  \n",
       "96450               1015.66  Partly cloudy starting in the morning.  \n",
       "96451               1015.95  Partly cloudy starting in the morning.  \n",
       "96452               1016.16  Partly cloudy starting in the morning.  \n",
       "\n",
       "[96453 rows x 12 columns]"
      ]
     },
     "execution_count": 3,
     "metadata": {},
     "output_type": "execute_result"
    }
   ],
   "source": [
    "weather"
   ]
  },
  {
   "cell_type": "markdown",
   "id": "009d349f",
   "metadata": {},
   "source": [
    "# Data preprocessing"
   ]
  },
  {
   "cell_type": "code",
   "execution_count": 4,
   "id": "7f1e4c33",
   "metadata": {},
   "outputs": [
    {
     "data": {
      "text/plain": [
       "Formatted Date                0\n",
       "Summary                       0\n",
       "Precip Type                 517\n",
       "Temperature (C)               0\n",
       "Apparent Temperature (C)      0\n",
       "Humidity                      0\n",
       "Wind Speed (km/h)             0\n",
       "Wind Bearing (degrees)        0\n",
       "Visibility (km)               0\n",
       "Loud Cover                    0\n",
       "Pressure (millibars)          0\n",
       "Daily Summary                 0\n",
       "dtype: int64"
      ]
     },
     "execution_count": 4,
     "metadata": {},
     "output_type": "execute_result"
    }
   ],
   "source": [
    "\"\"\"Checking for null values\"\"\"\n",
    "weather.isna().sum()"
   ]
  },
  {
   "cell_type": "code",
   "execution_count": 5,
   "id": "61ecfadb",
   "metadata": {},
   "outputs": [],
   "source": [
    "\"\"\"Remove columns and select featurs where Percip Type is not empty\"\"\"\n",
    "\"\"\"Select the features for data\"\"\"\n",
    "weather = weather.loc[weather['Precip Type'].notna(),['Precip Type',\n",
    "              'Summary',\n",
    "              'Temperature (C)',\n",
    "              'Apparent Temperature (C)',\n",
    "              'Humidity',\n",
    "              'Wind Speed (km/h)',\n",
    "             'Wind Bearing (degrees)','Visibility (km)','Loud Cover','Pressure (millibars)']]"
   ]
  },
  {
   "cell_type": "code",
   "execution_count": 6,
   "id": "c0a22a1c",
   "metadata": {},
   "outputs": [
    {
     "data": {
      "text/plain": [
       "(95936, 10)"
      ]
     },
     "execution_count": 6,
     "metadata": {},
     "output_type": "execute_result"
    }
   ],
   "source": [
    "weather.shape"
   ]
  },
  {
   "cell_type": "code",
   "execution_count": 7,
   "id": "c75760a5",
   "metadata": {},
   "outputs": [
    {
     "data": {
      "text/plain": [
       "Precip Type                 0\n",
       "Summary                     0\n",
       "Temperature (C)             0\n",
       "Apparent Temperature (C)    0\n",
       "Humidity                    0\n",
       "Wind Speed (km/h)           0\n",
       "Wind Bearing (degrees)      0\n",
       "Visibility (km)             0\n",
       "Loud Cover                  0\n",
       "Pressure (millibars)        0\n",
       "dtype: int64"
      ]
     },
     "execution_count": 7,
     "metadata": {},
     "output_type": "execute_result"
    }
   ],
   "source": [
    "\"\"\"Checking for null values\"\"\"\n",
    "weather.isna().sum()"
   ]
  },
  {
   "cell_type": "markdown",
   "id": "9c950b16",
   "metadata": {},
   "source": [
    "## Selecting features and scaling values"
   ]
  },
  {
   "cell_type": "code",
   "execution_count": 8,
   "id": "410409e8",
   "metadata": {},
   "outputs": [],
   "source": [
    "\"\"\"Selecting Features and Target\"\"\"\n",
    "X = weather.drop('Precip Type',axis='columns')"
   ]
  },
  {
   "cell_type": "code",
   "execution_count": 9,
   "id": "3457703f",
   "metadata": {},
   "outputs": [],
   "source": [
    "X['Temperature (C)'] = X['Temperature (C)'].astype('int')\n",
    "X['Apparent Temperature (C)'] = X['Apparent Temperature (C)'].astype('int')\n",
    "X['Humidity'] = X['Humidity'].round(1)\n",
    "X['Wind Speed (km/h)'] = X['Wind Speed (km/h)'].astype('int')\n",
    "X['Visibility (km)'] = X['Visibility (km)'].round(1)\n",
    "X['Pressure (millibars)'] = X['Pressure (millibars)'].astype('int')"
   ]
  },
  {
   "cell_type": "code",
   "execution_count": 10,
   "id": "98e74a6a",
   "metadata": {},
   "outputs": [],
   "source": [
    "le = LabelEncoder()"
   ]
  },
  {
   "cell_type": "code",
   "execution_count": 11,
   "id": "a83ce66e",
   "metadata": {},
   "outputs": [],
   "source": [
    "y=le.fit_transform(weather['Precip Type'])"
   ]
  },
  {
   "cell_type": "markdown",
   "id": "1f82cc6b",
   "metadata": {},
   "source": [
    "## Column transformer"
   ]
  },
  {
   "cell_type": "code",
   "execution_count": 12,
   "id": "b30b09bc",
   "metadata": {},
   "outputs": [],
   "source": [
    "'''Transform Summary but not Other variables'''\n",
    "column_trans = make_column_transformer((\n",
    "    OneHotEncoder(handle_unknown='ignore'),['Summary']),\n",
    "    remainder='passthrough')"
   ]
  },
  {
   "cell_type": "code",
   "execution_count": 13,
   "id": "a52a24ae",
   "metadata": {},
   "outputs": [
    {
     "data": {
      "text/plain": [
       "<95936x35 sparse matrix of type '<class 'numpy.float64'>'\n",
       "\twith 751815 stored elements in Compressed Sparse Row format>"
      ]
     },
     "execution_count": 13,
     "metadata": {},
     "output_type": "execute_result"
    }
   ],
   "source": [
    "column_trans.fit_transform(X)"
   ]
  },
  {
   "cell_type": "code",
   "execution_count": 14,
   "id": "db7c9601",
   "metadata": {},
   "outputs": [
    {
     "data": {
      "text/html": [
       "<div>\n",
       "<style scoped>\n",
       "    .dataframe tbody tr th:only-of-type {\n",
       "        vertical-align: middle;\n",
       "    }\n",
       "\n",
       "    .dataframe tbody tr th {\n",
       "        vertical-align: top;\n",
       "    }\n",
       "\n",
       "    .dataframe thead th {\n",
       "        text-align: right;\n",
       "    }\n",
       "</style>\n",
       "<table border=\"1\" class=\"dataframe\">\n",
       "  <thead>\n",
       "    <tr style=\"text-align: right;\">\n",
       "      <th></th>\n",
       "      <th>Summary</th>\n",
       "      <th>Temperature (C)</th>\n",
       "      <th>Apparent Temperature (C)</th>\n",
       "      <th>Humidity</th>\n",
       "      <th>Wind Speed (km/h)</th>\n",
       "      <th>Wind Bearing (degrees)</th>\n",
       "      <th>Visibility (km)</th>\n",
       "      <th>Loud Cover</th>\n",
       "      <th>Pressure (millibars)</th>\n",
       "    </tr>\n",
       "  </thead>\n",
       "  <tbody>\n",
       "    <tr>\n",
       "      <th>0</th>\n",
       "      <td>Partly Cloudy</td>\n",
       "      <td>9</td>\n",
       "      <td>7</td>\n",
       "      <td>0.9</td>\n",
       "      <td>14</td>\n",
       "      <td>251.0</td>\n",
       "      <td>15.8</td>\n",
       "      <td>0.0</td>\n",
       "      <td>1015</td>\n",
       "    </tr>\n",
       "    <tr>\n",
       "      <th>1</th>\n",
       "      <td>Partly Cloudy</td>\n",
       "      <td>9</td>\n",
       "      <td>7</td>\n",
       "      <td>0.9</td>\n",
       "      <td>14</td>\n",
       "      <td>259.0</td>\n",
       "      <td>15.8</td>\n",
       "      <td>0.0</td>\n",
       "      <td>1015</td>\n",
       "    </tr>\n",
       "    <tr>\n",
       "      <th>2</th>\n",
       "      <td>Mostly Cloudy</td>\n",
       "      <td>9</td>\n",
       "      <td>9</td>\n",
       "      <td>0.9</td>\n",
       "      <td>3</td>\n",
       "      <td>204.0</td>\n",
       "      <td>15.0</td>\n",
       "      <td>0.0</td>\n",
       "      <td>1015</td>\n",
       "    </tr>\n",
       "    <tr>\n",
       "      <th>3</th>\n",
       "      <td>Partly Cloudy</td>\n",
       "      <td>8</td>\n",
       "      <td>5</td>\n",
       "      <td>0.8</td>\n",
       "      <td>14</td>\n",
       "      <td>269.0</td>\n",
       "      <td>15.8</td>\n",
       "      <td>0.0</td>\n",
       "      <td>1016</td>\n",
       "    </tr>\n",
       "    <tr>\n",
       "      <th>4</th>\n",
       "      <td>Mostly Cloudy</td>\n",
       "      <td>8</td>\n",
       "      <td>6</td>\n",
       "      <td>0.8</td>\n",
       "      <td>11</td>\n",
       "      <td>259.0</td>\n",
       "      <td>15.8</td>\n",
       "      <td>0.0</td>\n",
       "      <td>1016</td>\n",
       "    </tr>\n",
       "  </tbody>\n",
       "</table>\n",
       "</div>"
      ],
      "text/plain": [
       "         Summary  Temperature (C)  Apparent Temperature (C)  Humidity  \\\n",
       "0  Partly Cloudy                9                         7       0.9   \n",
       "1  Partly Cloudy                9                         7       0.9   \n",
       "2  Mostly Cloudy                9                         9       0.9   \n",
       "3  Partly Cloudy                8                         5       0.8   \n",
       "4  Mostly Cloudy                8                         6       0.8   \n",
       "\n",
       "   Wind Speed (km/h)  Wind Bearing (degrees)  Visibility (km)  Loud Cover  \\\n",
       "0                 14                   251.0             15.8         0.0   \n",
       "1                 14                   259.0             15.8         0.0   \n",
       "2                  3                   204.0             15.0         0.0   \n",
       "3                 14                   269.0             15.8         0.0   \n",
       "4                 11                   259.0             15.8         0.0   \n",
       "\n",
       "   Pressure (millibars)  \n",
       "0                  1015  \n",
       "1                  1015  \n",
       "2                  1015  \n",
       "3                  1016  \n",
       "4                  1016  "
      ]
     },
     "execution_count": 14,
     "metadata": {},
     "output_type": "execute_result"
    }
   ],
   "source": [
    "X.head()"
   ]
  },
  {
   "cell_type": "markdown",
   "id": "28c49964",
   "metadata": {},
   "source": [
    "## Display scoring function"
   ]
  },
  {
   "cell_type": "code",
   "execution_count": 15,
   "id": "21ee0df7",
   "metadata": {},
   "outputs": [],
   "source": [
    "def display_scores(scores):\n",
    "    print(\"Scores:\", scores)\n",
    "    print(\"Mean:\", scores.mean())\n",
    "    print(\"Standard deviation:\", scores.std())"
   ]
  },
  {
   "cell_type": "markdown",
   "id": "1b7235f4",
   "metadata": {},
   "source": [
    "# LogisticRegression"
   ]
  },
  {
   "cell_type": "code",
   "execution_count": 16,
   "id": "a3f37a79",
   "metadata": {},
   "outputs": [],
   "source": [
    "from sklearn.linear_model import LogisticRegression\n",
    "logreg = LogisticRegression(solver='liblinear',max_iter=100)"
   ]
  },
  {
   "cell_type": "code",
   "execution_count": 17,
   "id": "11c59cef",
   "metadata": {},
   "outputs": [],
   "source": [
    "pipe = make_pipeline(column_trans,logreg)"
   ]
  },
  {
   "cell_type": "code",
   "execution_count": 18,
   "id": "3f54f1c5",
   "metadata": {},
   "outputs": [],
   "source": [
    "from sklearn.model_selection import cross_val_score"
   ]
  },
  {
   "cell_type": "markdown",
   "id": "0a698b3a",
   "metadata": {},
   "source": [
    "## Cross validation Accuracy"
   ]
  },
  {
   "cell_type": "code",
   "execution_count": 19,
   "id": "0ac5dcb7",
   "metadata": {},
   "outputs": [
    {
     "data": {
      "text/plain": [
       "0.9865743907387957"
      ]
     },
     "execution_count": 19,
     "metadata": {},
     "output_type": "execute_result"
    }
   ],
   "source": [
    "cross_val_score(pipe,X,y,cv=5,scoring='accuracy').mean()"
   ]
  },
  {
   "cell_type": "markdown",
   "id": "a5c8789e",
   "metadata": {},
   "source": [
    "## Cross validation MSE"
   ]
  },
  {
   "cell_type": "code",
   "execution_count": 20,
   "id": "ba43731a",
   "metadata": {},
   "outputs": [
    {
     "name": "stdout",
     "output_type": "stream",
     "text": [
      "Scores: 0.11586893138889409\n",
      "Mean: 0.11586893138889409\n",
      "Standard deviation: 0.0\n"
     ]
    }
   ],
   "source": [
    "score = cross_val_score(pipe,X,y,cv=5,scoring='neg_mean_squared_error').mean()\n",
    "rmse_score = np.sqrt(-score)\n",
    "display_scores(rmse_score)"
   ]
  },
  {
   "cell_type": "code",
   "execution_count": 21,
   "id": "9c8c7e9a",
   "metadata": {},
   "outputs": [],
   "source": [
    "y_train_pred = cross_val_predict(pipe, X, y, cv=5)"
   ]
  },
  {
   "cell_type": "markdown",
   "id": "7c33c803",
   "metadata": {},
   "source": [
    "## Confusion Matrix"
   ]
  },
  {
   "cell_type": "code",
   "execution_count": 22,
   "id": "44777b7f",
   "metadata": {},
   "outputs": [
    {
     "data": {
      "text/plain": [
       "array([[84584,   640],\n",
       "       [  648, 10064]], dtype=int64)"
      ]
     },
     "execution_count": 22,
     "metadata": {},
     "output_type": "execute_result"
    }
   ],
   "source": [
    "confusion_matrix(y, y_train_pred) "
   ]
  },
  {
   "cell_type": "code",
   "execution_count": 23,
   "id": "0532c87b",
   "metadata": {},
   "outputs": [
    {
     "data": {
      "text/plain": [
       "array([[85224,     0],\n",
       "       [    0, 10712]], dtype=int64)"
      ]
     },
     "execution_count": 23,
     "metadata": {},
     "output_type": "execute_result"
    }
   ],
   "source": [
    "y_train_perfect_predictions = y # pretend we reached perfection\n",
    "confusion_matrix(y, y_train_perfect_predictions)"
   ]
  },
  {
   "cell_type": "markdown",
   "id": "5694a46e",
   "metadata": {},
   "source": [
    "## Precision Score"
   ]
  },
  {
   "cell_type": "code",
   "execution_count": 24,
   "id": "4d0da807",
   "metadata": {},
   "outputs": [
    {
     "data": {
      "text/plain": [
       "0.9402092675635276"
      ]
     },
     "execution_count": 24,
     "metadata": {},
     "output_type": "execute_result"
    }
   ],
   "source": [
    "\"\"\"Precision and Recall F1\"\"\"\n",
    "precision_score(y, y_train_pred)"
   ]
  },
  {
   "cell_type": "markdown",
   "id": "823c39d4",
   "metadata": {},
   "source": [
    "## Recall Score"
   ]
  },
  {
   "cell_type": "code",
   "execution_count": 25,
   "id": "bc7a18ad",
   "metadata": {},
   "outputs": [
    {
     "data": {
      "text/plain": [
       "0.9395070948469006"
      ]
     },
     "execution_count": 25,
     "metadata": {},
     "output_type": "execute_result"
    }
   ],
   "source": [
    "recall_score(y, y_train_pred)"
   ]
  },
  {
   "cell_type": "markdown",
   "id": "e812a672",
   "metadata": {},
   "source": [
    "## F1 Score"
   ]
  },
  {
   "cell_type": "code",
   "execution_count": 26,
   "id": "52a1efd7",
   "metadata": {},
   "outputs": [
    {
     "data": {
      "text/plain": [
       "0.9398580500560328"
      ]
     },
     "execution_count": 26,
     "metadata": {},
     "output_type": "execute_result"
    }
   ],
   "source": [
    "f1_score(y, y_train_pred)"
   ]
  },
  {
   "cell_type": "code",
   "execution_count": 27,
   "id": "7c27c7b3",
   "metadata": {},
   "outputs": [],
   "source": [
    "y_scores = cross_val_predict(pipe, X, y, cv=5,\n",
    " method=\"decision_function\")"
   ]
  },
  {
   "cell_type": "code",
   "execution_count": 28,
   "id": "e2d30b86",
   "metadata": {},
   "outputs": [],
   "source": [
    "precisions, recalls, thresholds = precision_recall_curve(y, y_scores)"
   ]
  },
  {
   "cell_type": "markdown",
   "id": "3637bd39",
   "metadata": {},
   "source": [
    "## Precision Recall curve"
   ]
  },
  {
   "cell_type": "code",
   "execution_count": 29,
   "id": "a8b8200a",
   "metadata": {},
   "outputs": [
    {
     "data": {
      "image/png": "[encoded data removed]",
      "text/plain": [
       "<Figure size 432x288 with 1 Axes>"
      ]
     },
     "metadata": {
      "needs_background": "light"
     },
     "output_type": "display_data"
    }
   ],
   "source": [
    "def plot_precision_recall_vs_threshold(precisions, recalls, thresholds):\n",
    "    plt.plot(thresholds, precisions[:-1], \"b--\", label=\"Precision\")\n",
    "    plt.plot(thresholds, recalls[:-1], \"g-\", label=\"Recall\")\n",
    "plot_precision_recall_vs_threshold(precisions, recalls, thresholds)\n",
    "plt.show()  "
   ]
  },
  {
   "cell_type": "markdown",
   "id": "6ef66552",
   "metadata": {},
   "source": [
    "## ROC Curve"
   ]
  },
  {
   "cell_type": "code",
   "execution_count": 30,
   "id": "a2c31280",
   "metadata": {},
   "outputs": [],
   "source": [
    "fpr, tpr, thresholds = roc_curve(y, y_scores)"
   ]
  },
  {
   "cell_type": "code",
   "execution_count": 31,
   "id": "72260fdb",
   "metadata": {},
   "outputs": [
    {
     "data": {
      "image/png": "[encoded data removed]",
      "text/plain": [
       "<Figure size 432x288 with 1 Axes>"
      ]
     },
     "metadata": {
      "needs_background": "light"
     },
     "output_type": "display_data"
    }
   ],
   "source": [
    "def plot_roc_curve(fpr, tpr, label=None):\n",
    "    plt.plot(fpr, tpr, linewidth=2, label=label)\n",
    "    plt.plot([0, 1], [0, 1], 'k--') # dashed diagonal\n",
    "plot_roc_curve(fpr, tpr)\n",
    "plt.show()"
   ]
  },
  {
   "cell_type": "markdown",
   "id": "2ac1093a",
   "metadata": {},
   "source": [
    "# SVM"
   ]
  },
  {
   "cell_type": "code",
   "execution_count": 32,
   "id": "01873827",
   "metadata": {},
   "outputs": [],
   "source": [
    "from sklearn.svm import SVC\n",
    "svm = SVC(C = 100, gamma = 0.002)"
   ]
  },
  {
   "cell_type": "code",
   "execution_count": 33,
   "id": "9cf86d36",
   "metadata": {},
   "outputs": [],
   "source": [
    "pipe = make_pipeline(column_trans,svm)"
   ]
  },
  {
   "cell_type": "markdown",
   "id": "61fcd939",
   "metadata": {},
   "source": [
    "## Cross validation Accuracy"
   ]
  },
  {
   "cell_type": "code",
   "execution_count": 34,
   "id": "a9c60867",
   "metadata": {},
   "outputs": [
    {
     "data": {
      "text/plain": [
       "0.9840414382049534"
      ]
     },
     "execution_count": 34,
     "metadata": {},
     "output_type": "execute_result"
    }
   ],
   "source": [
    "cross_val_score(pipe,X,y,cv=5,scoring='accuracy').mean()"
   ]
  },
  {
   "cell_type": "markdown",
   "id": "93609a8a",
   "metadata": {},
   "source": [
    "## Cross validation MSE"
   ]
  },
  {
   "cell_type": "code",
   "execution_count": 35,
   "id": "d117c65c",
   "metadata": {},
   "outputs": [
    {
     "name": "stdout",
     "output_type": "stream",
     "text": [
      "Scores: 0.12632720132673964\n",
      "Mean: 0.12632720132673964\n",
      "Standard deviation: 0.0\n"
     ]
    }
   ],
   "source": [
    "score = cross_val_score(pipe,X,y,cv=5,scoring='neg_mean_squared_error').mean()\n",
    "rmse_score = np.sqrt(-score)\n",
    "display_scores(rmse_score)"
   ]
  },
  {
   "cell_type": "markdown",
   "id": "804784be",
   "metadata": {},
   "source": [
    "## Predictions"
   ]
  },
  {
   "cell_type": "code",
   "execution_count": 37,
   "id": "530f79e6",
   "metadata": {},
   "outputs": [],
   "source": [
    "y_train_pred = cross_val_predict(pipe, X, y, cv=5)"
   ]
  },
  {
   "cell_type": "markdown",
   "id": "6ef7cc2d",
   "metadata": {},
   "source": [
    "## Confusion Matrix"
   ]
  },
  {
   "cell_type": "code",
   "execution_count": 38,
   "id": "94ab67f7",
   "metadata": {},
   "outputs": [
    {
     "data": {
      "text/plain": [
       "array([[84500,   724],\n",
       "       [  807,  9905]], dtype=int64)"
      ]
     },
     "execution_count": 38,
     "metadata": {},
     "output_type": "execute_result"
    }
   ],
   "source": [
    "confusion_matrix(y, y_train_pred) "
   ]
  },
  {
   "cell_type": "code",
   "execution_count": 39,
   "id": "cae2d7cf",
   "metadata": {},
   "outputs": [
    {
     "data": {
      "text/plain": [
       "array([[85224,     0],\n",
       "       [    0, 10712]], dtype=int64)"
      ]
     },
     "execution_count": 39,
     "metadata": {},
     "output_type": "execute_result"
    }
   ],
   "source": [
    "y_train_perfect_predictions = y # pretend we reached perfection\n",
    "confusion_matrix(y, y_train_perfect_predictions)"
   ]
  },
  {
   "cell_type": "markdown",
   "id": "b8680ef0",
   "metadata": {},
   "source": [
    "## Precision Score"
   ]
  },
  {
   "cell_type": "code",
   "execution_count": 40,
   "id": "62e82233",
   "metadata": {},
   "outputs": [
    {
     "data": {
      "text/plain": [
       "0.9318844670241792"
      ]
     },
     "execution_count": 40,
     "metadata": {},
     "output_type": "execute_result"
    }
   ],
   "source": [
    "precision_score(y, y_train_pred)"
   ]
  },
  {
   "cell_type": "markdown",
   "id": "2d8ea64b",
   "metadata": {},
   "source": [
    "## Recall Score"
   ]
  },
  {
   "cell_type": "code",
   "execution_count": 41,
   "id": "0d779885",
   "metadata": {},
   "outputs": [
    {
     "data": {
      "text/plain": [
       "0.924663928304705"
      ]
     },
     "execution_count": 41,
     "metadata": {},
     "output_type": "execute_result"
    }
   ],
   "source": [
    "recall_score(y, y_train_pred)"
   ]
  },
  {
   "cell_type": "markdown",
   "id": "e8880b37",
   "metadata": {},
   "source": [
    "## F1 Score"
   ]
  },
  {
   "cell_type": "code",
   "execution_count": 42,
   "id": "6e0ade07",
   "metadata": {},
   "outputs": [
    {
     "data": {
      "text/plain": [
       "0.9282601565062556"
      ]
     },
     "execution_count": 42,
     "metadata": {},
     "output_type": "execute_result"
    }
   ],
   "source": [
    "f1_score(y, y_train_pred)"
   ]
  },
  {
   "cell_type": "code",
   "execution_count": 43,
   "id": "849cdd14",
   "metadata": {},
   "outputs": [],
   "source": [
    "y_scores = cross_val_predict(pipe, X, y, cv=5,\n",
    " method=\"decision_function\")"
   ]
  },
  {
   "cell_type": "markdown",
   "id": "52eb858f",
   "metadata": {},
   "source": [
    "## Precision Recall curve"
   ]
  },
  {
   "cell_type": "code",
   "execution_count": 44,
   "id": "4006260b",
   "metadata": {},
   "outputs": [],
   "source": [
    "precisions, recalls, thresholds = precision_recall_curve(y, y_scores)"
   ]
  },
  {
   "cell_type": "code",
   "execution_count": 45,
   "id": "23d2350d",
   "metadata": {},
   "outputs": [
    {
     "data": {
      "image/png": "[encoded data removed]",
      "text/plain": [
       "<Figure size 432x288 with 1 Axes>"
      ]
     },
     "metadata": {
      "needs_background": "light"
     },
     "output_type": "display_data"
    }
   ],
   "source": [
    "def plot_precision_recall_vs_threshold(precisions, recalls, thresholds):\n",
    "    plt.plot(thresholds, precisions[:-1], \"b--\", label=\"Precision\")\n",
    "    plt.plot(thresholds, recalls[:-1], \"g-\", label=\"Recall\")\n",
    "plot_precision_recall_vs_threshold(precisions, recalls, thresholds)\n",
    "plt.show() "
   ]
  },
  {
   "cell_type": "markdown",
   "id": "fe9c73ba",
   "metadata": {},
   "source": [
    "## ROC Curve"
   ]
  },
  {
   "cell_type": "code",
   "execution_count": 46,
   "id": "2dbcc1f9",
   "metadata": {},
   "outputs": [],
   "source": [
    "fpr, tpr, thresholds = roc_curve(y, y_scores)"
   ]
  },
  {
   "cell_type": "code",
   "execution_count": 47,
   "id": "03762fec",
   "metadata": {},
   "outputs": [
    {
     "data": {
      "image/png": "[encoded data removed]",
      "text/plain": [
       "<Figure size 432x288 with 1 Axes>"
      ]
     },
     "metadata": {
      "needs_background": "light"
     },
     "output_type": "display_data"
    }
   ],
   "source": [
    "def plot_roc_curve(fpr, tpr, label=None):\n",
    "    plt.plot(fpr, tpr, linewidth=2, label=label)\n",
    "    plt.plot([0, 1], [0, 1], 'k--') # dashed diagonal\n",
    "plot_roc_curve(fpr, tpr)\n",
    "plt.show()"
   ]
  },
  {
   "cell_type": "markdown",
   "id": "2fdf911e",
   "metadata": {},
   "source": [
    "# KNeighborsClassifier"
   ]
  },
  {
   "cell_type": "code",
   "execution_count": 48,
   "id": "9f95291f",
   "metadata": {},
   "outputs": [],
   "source": [
    "from sklearn.neighbors import KNeighborsClassifier"
   ]
  },
  {
   "cell_type": "code",
   "execution_count": 49,
   "id": "beb1661b",
   "metadata": {},
   "outputs": [],
   "source": [
    "knn = KNeighborsClassifier()"
   ]
  },
  {
   "cell_type": "code",
   "execution_count": 50,
   "id": "42ac7278",
   "metadata": {},
   "outputs": [],
   "source": [
    "pipe = make_pipeline(column_trans,knn)"
   ]
  },
  {
   "cell_type": "markdown",
   "id": "69a4089b",
   "metadata": {},
   "source": [
    "## Cross validation Accuracy"
   ]
  },
  {
   "cell_type": "code",
   "execution_count": 51,
   "id": "41a62e19",
   "metadata": {},
   "outputs": [
    {
     "data": {
      "text/plain": [
       "0.9675408047143483"
      ]
     },
     "execution_count": 51,
     "metadata": {},
     "output_type": "execute_result"
    }
   ],
   "source": [
    "cross_val_score(pipe,X,y,cv=5,scoring='accuracy').mean()"
   ]
  },
  {
   "cell_type": "markdown",
   "id": "87931a7d",
   "metadata": {},
   "source": [
    "## Cross validation MSE"
   ]
  },
  {
   "cell_type": "code",
   "execution_count": 52,
   "id": "8a02adfa",
   "metadata": {},
   "outputs": [
    {
     "name": "stdout",
     "output_type": "stream",
     "text": [
      "Scores: 0.18016435631292813\n",
      "Mean: 0.18016435631292813\n",
      "Standard deviation: 0.0\n"
     ]
    }
   ],
   "source": [
    "score = cross_val_score(pipe,X,y,cv=5,scoring='neg_mean_squared_error').mean()\n",
    "rmse_score = np.sqrt(-score)\n",
    "display_scores(rmse_score)"
   ]
  },
  {
   "cell_type": "markdown",
   "id": "ae1cab08",
   "metadata": {},
   "source": [
    "## Predictions"
   ]
  },
  {
   "cell_type": "code",
   "execution_count": 53,
   "id": "c4ace2b9",
   "metadata": {},
   "outputs": [],
   "source": [
    "y_train_pred = cross_val_predict(pipe, X, y, cv=5)"
   ]
  },
  {
   "cell_type": "markdown",
   "id": "f9a51ba8",
   "metadata": {},
   "source": [
    "## Confusion Matrix"
   ]
  },
  {
   "cell_type": "code",
   "execution_count": 54,
   "id": "ceeded52",
   "metadata": {},
   "outputs": [
    {
     "data": {
      "text/plain": [
       "array([[84100,  1124],\n",
       "       [ 1990,  8722]], dtype=int64)"
      ]
     },
     "execution_count": 54,
     "metadata": {},
     "output_type": "execute_result"
    }
   ],
   "source": [
    "confusion_matrix(y, y_train_pred) "
   ]
  },
  {
   "cell_type": "code",
   "execution_count": 55,
   "id": "3156992e",
   "metadata": {},
   "outputs": [
    {
     "data": {
      "text/plain": [
       "array([[85224,     0],\n",
       "       [    0, 10712]], dtype=int64)"
      ]
     },
     "execution_count": 55,
     "metadata": {},
     "output_type": "execute_result"
    }
   ],
   "source": [
    "y_train_perfect_predictions = y # pretend we reached perfection\n",
    "confusion_matrix(y, y_train_perfect_predictions)"
   ]
  },
  {
   "cell_type": "markdown",
   "id": "d5b631d4",
   "metadata": {},
   "source": [
    "## Precision Score"
   ]
  },
  {
   "cell_type": "code",
   "execution_count": 56,
   "id": "12d5aee7",
   "metadata": {},
   "outputs": [
    {
     "data": {
      "text/plain": [
       "0.8858419662807231"
      ]
     },
     "execution_count": 56,
     "metadata": {},
     "output_type": "execute_result"
    }
   ],
   "source": [
    "precision_score(y, y_train_pred)"
   ]
  },
  {
   "cell_type": "markdown",
   "id": "27169ce8",
   "metadata": {},
   "source": [
    "## Recall Score"
   ]
  },
  {
   "cell_type": "code",
   "execution_count": 58,
   "id": "4e25e5e3",
   "metadata": {},
   "outputs": [
    {
     "data": {
      "text/plain": [
       "0.8142270351008215"
      ]
     },
     "execution_count": 58,
     "metadata": {},
     "output_type": "execute_result"
    }
   ],
   "source": [
    "recall_score(y, y_train_pred)"
   ]
  },
  {
   "cell_type": "markdown",
   "id": "d7475dd6",
   "metadata": {},
   "source": [
    "## F1 Score"
   ]
  },
  {
   "cell_type": "code",
   "execution_count": 59,
   "id": "e66e05e5",
   "metadata": {},
   "outputs": [
    {
     "data": {
      "text/plain": [
       "0.8485261212180172"
      ]
     },
     "execution_count": 59,
     "metadata": {},
     "output_type": "execute_result"
    }
   ],
   "source": [
    "f1_score(y, y_train_pred)"
   ]
  },
  {
   "cell_type": "code",
   "execution_count": 62,
   "id": "74659100",
   "metadata": {},
   "outputs": [],
   "source": [
    "y_scores = cross_val_predict(pipe, X, y, cv=5)"
   ]
  },
  {
   "cell_type": "code",
   "execution_count": 63,
   "id": "8106426e",
   "metadata": {},
   "outputs": [],
   "source": [
    "precisions, recalls, thresholds = precision_recall_curve(y, y_scores)"
   ]
  },
  {
   "cell_type": "markdown",
   "id": "467129fc",
   "metadata": {},
   "source": [
    "## Precision Recall curve"
   ]
  },
  {
   "cell_type": "code",
   "execution_count": 64,
   "id": "d3bd1fd0",
   "metadata": {},
   "outputs": [
    {
     "data": {
      "image/png": "[encoded data removed]",
      "text/plain": [
       "<Figure size 432x288 with 1 Axes>"
      ]
     },
     "metadata": {
      "needs_background": "light"
     },
     "output_type": "display_data"
    }
   ],
   "source": [
    "def plot_precision_recall_vs_threshold(precisions, recalls, thresholds):\n",
    "    plt.plot(thresholds, precisions[:-1], \"b--\", label=\"Precision\")\n",
    "    plt.plot(thresholds, recalls[:-1], \"g-\", label=\"Recall\")\n",
    "plot_precision_recall_vs_threshold(precisions, recalls, thresholds)\n",
    "plt.show()  "
   ]
  },
  {
   "cell_type": "markdown",
   "id": "adc96824",
   "metadata": {},
   "source": [
    "## ROC Curve"
   ]
  },
  {
   "cell_type": "code",
   "execution_count": 65,
   "id": "18226b94",
   "metadata": {},
   "outputs": [],
   "source": [
    "fpr, tpr, thresholds = roc_curve(y, y_scores)"
   ]
  },
  {
   "cell_type": "code",
   "execution_count": 66,
   "id": "1123b2bd",
   "metadata": {},
   "outputs": [
    {
     "data": {
      "image/png": "[encoded data removed]",
      "text/plain": [
       "<Figure size 432x288 with 1 Axes>"
      ]
     },
     "metadata": {
      "needs_background": "light"
     },
     "output_type": "display_data"
    }
   ],
   "source": [
    "def plot_roc_curve(fpr, tpr, label=None):\n",
    "    plt.plot(fpr, tpr, linewidth=2, label=label)\n",
    "    plt.plot([0, 1], [0, 1], 'k--') # dashed diagonal\n",
    "plot_roc_curve(fpr, tpr)\n",
    "plt.show()"
   ]
  },
  {
   "cell_type": "markdown",
   "id": "6cda8f12",
   "metadata": {},
   "source": [
    "# ANN Model"
   ]
  },
  {
   "cell_type": "code",
   "execution_count": 67,
   "id": "f1b7ee7c",
   "metadata": {},
   "outputs": [],
   "source": [
    "import tensorflow as tf"
   ]
  },
  {
   "cell_type": "code",
   "execution_count": 68,
   "id": "b844bda4",
   "metadata": {},
   "outputs": [],
   "source": [
    "data = pd.read_csv(\"weatherHistory.csv\")"
   ]
  },
  {
   "cell_type": "code",
   "execution_count": 70,
   "id": "931075fd",
   "metadata": {},
   "outputs": [],
   "source": [
    "data = data.loc[data['Precip Type'].notna(),['Precip Type',\n",
    "              'Summary',\n",
    "              'Temperature (C)',\n",
    "              'Apparent Temperature (C)',\n",
    "              'Humidity',\n",
    "              'Wind Speed (km/h)',\n",
    "             'Wind Bearing (degrees)','Visibility (km)','Loud Cover','Pressure (millibars)']]"
   ]
  },
  {
   "cell_type": "code",
   "execution_count": 71,
   "id": "e1b96b34",
   "metadata": {},
   "outputs": [],
   "source": [
    "X = data.drop('Precip Type',axis='columns')"
   ]
  },
  {
   "cell_type": "code",
   "execution_count": 73,
   "id": "0454c849",
   "metadata": {},
   "outputs": [],
   "source": [
    "#Encoding Categorical Variable Gender\n",
    "from sklearn.preprocessing import LabelEncoder\n",
    "LE1 = LabelEncoder()\n",
    "X['Summary'] = np.array(LE1.fit_transform(X['Summary']))\n",
    "X['Temperature (C)'] = X['Temperature (C)'].astype('int')\n",
    "X['Apparent Temperature (C)'] = X['Apparent Temperature (C)'].astype('int')\n",
    "X['Humidity'] = X['Humidity'].round(1)\n",
    "X['Wind Speed (km/h)'] = X['Wind Speed (km/h)'].astype('int')\n",
    "X['Visibility (km)'] = X['Visibility (km)'].round(1)\n",
    "X['Pressure (millibars)'] = X['Pressure (millibars)'].astype('int')"
   ]
  },
  {
   "cell_type": "code",
   "execution_count": 74,
   "id": "0309384d",
   "metadata": {},
   "outputs": [],
   "source": [
    "y = np.array(LE1.fit_transform(data['Precip Type']))"
   ]
  },
  {
   "cell_type": "code",
   "execution_count": 75,
   "id": "c41d9d53",
   "metadata": {},
   "outputs": [],
   "source": [
    "#Splitting dataset into training and testing dataset\n",
    "from sklearn.model_selection import train_test_split\n",
    "X_train,X_test,Y_train,Y_test = train_test_split(X,y,test_size=0.2,random_state=0)"
   ]
  },
  {
   "cell_type": "code",
   "execution_count": 76,
   "id": "6a48754b",
   "metadata": {},
   "outputs": [],
   "source": [
    "#Performing Feature Scaling\n",
    "from sklearn.preprocessing import StandardScaler\n",
    "sc = StandardScaler()\n",
    "X_train = sc.fit_transform(X_train)\n",
    "X_test = sc.transform(X_test)"
   ]
  },
  {
   "cell_type": "code",
   "execution_count": 77,
   "id": "3cc76b8b",
   "metadata": {},
   "outputs": [],
   "source": [
    "#Initialising ANN\n",
    "ann = tf.keras.models.Sequential()\n",
    "#Adding First Hidden Layer\n",
    "ann.add(tf.keras.layers.Dense(units=6,activation=\"relu\"))\n",
    "#Adding Second Hidden Layer\n",
    "ann.add(tf.keras.layers.Dense(units=6,activation=\"relu\"))\n",
    "#Adding Output Layer\n",
    "ann.add(tf.keras.layers.Dense(units=1,activation=\"sigmoid\"))\n",
    "#Compiling ANN\n",
    "ann.compile(optimizer=\"adam\",loss=\"binary_crossentropy\",metrics=['accuracy'])"
   ]
  },
  {
   "cell_type": "code",
   "execution_count": 97,
   "id": "5b686466",
   "metadata": {},
   "outputs": [
    {
     "name": "stdout",
     "output_type": "stream",
     "text": [
      "Epoch 1/100\n",
      "2399/2399 [==============================] - 8s 4ms/step - loss: 0.0243 - accuracy: 0.9874\n",
      "Epoch 2/100\n",
      "2399/2399 [==============================] - 8s 3ms/step - loss: 0.0242 - accuracy: 0.9874\n",
      "Epoch 3/100\n",
      "2399/2399 [==============================] - 8s 3ms/step - loss: 0.0242 - accuracy: 0.9875\n",
      "Epoch 4/100\n",
      "2399/2399 [==============================] - 8s 3ms/step - loss: 0.0241 - accuracy: 0.9874\n",
      "Epoch 5/100\n",
      "2399/2399 [==============================] - 8s 3ms/step - loss: 0.0240 - accuracy: 0.9875\n",
      "Epoch 6/100\n",
      "2399/2399 [==============================] - 8s 3ms/step - loss: 0.0240 - accuracy: 0.9871\n",
      "Epoch 7/100\n",
      "2399/2399 [==============================] - 7s 3ms/step - loss: 0.0241 - accuracy: 0.9874\n",
      "Epoch 8/100\n",
      "2399/2399 [==============================] - 8s 3ms/step - loss: 0.0239 - accuracy: 0.9876\n",
      "Epoch 9/100\n",
      "2399/2399 [==============================] - 8s 4ms/step - loss: 0.0242 - accuracy: 0.9875\n",
      "Epoch 10/100\n",
      "2399/2399 [==============================] - 9s 4ms/step - loss: 0.0240 - accuracy: 0.9873\n",
      "Epoch 11/100\n",
      "2399/2399 [==============================] - 9s 4ms/step - loss: 0.0238 - accuracy: 0.9872\n",
      "Epoch 12/100\n",
      "2399/2399 [==============================] - 9s 4ms/step - loss: 0.0239 - accuracy: 0.9872\n",
      "Epoch 13/100\n",
      "2399/2399 [==============================] - 9s 4ms/step - loss: 0.0238 - accuracy: 0.9874\n",
      "Epoch 14/100\n",
      "2399/2399 [==============================] - 8s 3ms/step - loss: 0.0237 - accuracy: 0.9871\n",
      "Epoch 15/100\n",
      "2399/2399 [==============================] - 8s 3ms/step - loss: 0.0238 - accuracy: 0.9873\n",
      "Epoch 16/100\n",
      "2399/2399 [==============================] - 8s 3ms/step - loss: 0.0237 - accuracy: 0.9875\n",
      "Epoch 17/100\n",
      "2399/2399 [==============================] - 8s 3ms/step - loss: 0.0237 - accuracy: 0.9874\n",
      "Epoch 18/100\n",
      "2399/2399 [==============================] - 8s 3ms/step - loss: 0.0237 - accuracy: 0.9873\n",
      "Epoch 19/100\n",
      "2399/2399 [==============================] - 8s 3ms/step - loss: 0.0236 - accuracy: 0.9875\n",
      "Epoch 20/100\n",
      "2399/2399 [==============================] - 8s 3ms/step - loss: 0.0238 - accuracy: 0.9877\n",
      "Epoch 21/100\n",
      "2399/2399 [==============================] - 8s 3ms/step - loss: 0.0236 - accuracy: 0.9872\n",
      "Epoch 22/100\n",
      "2399/2399 [==============================] - 8s 3ms/step - loss: 0.0238 - accuracy: 0.9874\n",
      "Epoch 23/100\n",
      "2399/2399 [==============================] - 8s 3ms/step - loss: 0.0238 - accuracy: 0.9875\n",
      "Epoch 24/100\n",
      "2399/2399 [==============================] - 8s 3ms/step - loss: 0.0234 - accuracy: 0.9873\n",
      "Epoch 25/100\n",
      "2399/2399 [==============================] - 8s 3ms/step - loss: 0.0238 - accuracy: 0.9874\n",
      "Epoch 26/100\n",
      "2399/2399 [==============================] - 8s 3ms/step - loss: 0.0235 - accuracy: 0.9877\n",
      "Epoch 27/100\n",
      "2399/2399 [==============================] - 8s 3ms/step - loss: 0.0236 - accuracy: 0.9876\n",
      "Epoch 28/100\n",
      "2399/2399 [==============================] - 8s 3ms/step - loss: 0.0237 - accuracy: 0.9875\n",
      "Epoch 29/100\n",
      "2399/2399 [==============================] - 8s 3ms/step - loss: 0.0236 - accuracy: 0.9871\n",
      "Epoch 30/100\n",
      "2399/2399 [==============================] - 8s 3ms/step - loss: 0.0236 - accuracy: 0.9874\n",
      "Epoch 31/100\n",
      "2399/2399 [==============================] - 8s 3ms/step - loss: 0.0236 - accuracy: 0.9875\n",
      "Epoch 32/100\n",
      "2399/2399 [==============================] - 8s 3ms/step - loss: 0.0236 - accuracy: 0.9878\n",
      "Epoch 33/100\n",
      "2399/2399 [==============================] - 8s 3ms/step - loss: 0.0235 - accuracy: 0.9878\n",
      "Epoch 34/100\n",
      "2399/2399 [==============================] - 8s 3ms/step - loss: 0.0235 - accuracy: 0.9874\n",
      "Epoch 35/100\n",
      "2399/2399 [==============================] - 8s 3ms/step - loss: 0.0236 - accuracy: 0.9874\n",
      "Epoch 36/100\n",
      "2399/2399 [==============================] - 8s 3ms/step - loss: 0.0233 - accuracy: 0.9874\n",
      "Epoch 37/100\n",
      "2399/2399 [==============================] - 8s 3ms/step - loss: 0.0234 - accuracy: 0.9875\n",
      "Epoch 38/100\n",
      "2399/2399 [==============================] - 8s 3ms/step - loss: 0.0235 - accuracy: 0.9873\n",
      "Epoch 39/100\n",
      "2399/2399 [==============================] - 8s 3ms/step - loss: 0.0235 - accuracy: 0.9875\n",
      "Epoch 40/100\n",
      "2399/2399 [==============================] - 8s 3ms/step - loss: 0.0237 - accuracy: 0.9874\n",
      "Epoch 41/100\n",
      "2399/2399 [==============================] - 8s 3ms/step - loss: 0.0235 - accuracy: 0.9876\n",
      "Epoch 42/100\n",
      "2399/2399 [==============================] - 8s 3ms/step - loss: 0.0233 - accuracy: 0.9876\n",
      "Epoch 43/100\n",
      "2399/2399 [==============================] - 8s 3ms/step - loss: 0.0237 - accuracy: 0.9870\n",
      "Epoch 44/100\n",
      "2399/2399 [==============================] - 8s 3ms/step - loss: 0.0233 - accuracy: 0.9876\n",
      "Epoch 45/100\n",
      "2399/2399 [==============================] - 8s 3ms/step - loss: 0.0234 - accuracy: 0.9874\n",
      "Epoch 46/100\n",
      "2399/2399 [==============================] - 8s 4ms/step - loss: 0.0235 - accuracy: 0.9872\n",
      "Epoch 47/100\n",
      "2399/2399 [==============================] - 8s 4ms/step - loss: 0.0235 - accuracy: 0.9877\n",
      "Epoch 48/100\n",
      "2399/2399 [==============================] - 8s 4ms/step - loss: 0.0236 - accuracy: 0.9872\n",
      "Epoch 49/100\n",
      "2399/2399 [==============================] - 8s 3ms/step - loss: 0.0236 - accuracy: 0.9875\n",
      "Epoch 50/100\n",
      "2399/2399 [==============================] - 8s 3ms/step - loss: 0.0236 - accuracy: 0.9873\n",
      "Epoch 51/100\n",
      "2399/2399 [==============================] - 8s 3ms/step - loss: 0.0232 - accuracy: 0.9878\n",
      "Epoch 52/100\n",
      "2399/2399 [==============================] - 8s 3ms/step - loss: 0.0234 - accuracy: 0.9874\n",
      "Epoch 53/100\n",
      "2399/2399 [==============================] - 8s 3ms/step - loss: 0.0234 - accuracy: 0.9872\n",
      "Epoch 54/100\n",
      "2399/2399 [==============================] - 8s 3ms/step - loss: 0.0235 - accuracy: 0.9874\n",
      "Epoch 55/100\n",
      "2399/2399 [==============================] - 8s 3ms/step - loss: 0.0237 - accuracy: 0.9872\n",
      "Epoch 56/100\n",
      "2399/2399 [==============================] - 8s 3ms/step - loss: 0.0235 - accuracy: 0.9876\n",
      "Epoch 57/100\n",
      "2399/2399 [==============================] - 8s 4ms/step - loss: 0.0234 - accuracy: 0.9873\n",
      "Epoch 58/100\n",
      "2399/2399 [==============================] - 8s 3ms/step - loss: 0.0234 - accuracy: 0.9874\n",
      "Epoch 59/100\n",
      "2399/2399 [==============================] - 9s 4ms/step - loss: 0.0234 - accuracy: 0.9872\n",
      "Epoch 60/100\n",
      "2399/2399 [==============================] - 8s 3ms/step - loss: 0.0233 - accuracy: 0.9874\n",
      "Epoch 61/100\n",
      "2399/2399 [==============================] - 8s 3ms/step - loss: 0.0234 - accuracy: 0.9877\n",
      "Epoch 62/100\n",
      "2399/2399 [==============================] - 8s 3ms/step - loss: 0.0236 - accuracy: 0.9871\n",
      "Epoch 63/100\n",
      "2399/2399 [==============================] - 8s 3ms/step - loss: 0.0235 - accuracy: 0.9874\n",
      "Epoch 64/100\n",
      "2399/2399 [==============================] - 8s 3ms/step - loss: 0.0234 - accuracy: 0.9875\n",
      "Epoch 65/100\n",
      "2399/2399 [==============================] - 8s 3ms/step - loss: 0.0231 - accuracy: 0.9879\n",
      "Epoch 66/100\n",
      "2399/2399 [==============================] - 8s 3ms/step - loss: 0.0235 - accuracy: 0.9878\n",
      "Epoch 67/100\n",
      "2399/2399 [==============================] - 8s 3ms/step - loss: 0.0235 - accuracy: 0.9874\n",
      "Epoch 68/100\n",
      "2399/2399 [==============================] - 8s 3ms/step - loss: 0.0233 - accuracy: 0.9876\n",
      "Epoch 69/100\n",
      "2399/2399 [==============================] - 8s 3ms/step - loss: 0.0235 - accuracy: 0.9873\n",
      "Epoch 70/100\n",
      "2399/2399 [==============================] - 9s 4ms/step - loss: 0.0234 - accuracy: 0.9876\n",
      "Epoch 71/100\n",
      "2399/2399 [==============================] - 8s 3ms/step - loss: 0.0233 - accuracy: 0.9873\n",
      "Epoch 72/100\n",
      "2399/2399 [==============================] - 9s 4ms/step - loss: 0.0233 - accuracy: 0.9877\n",
      "Epoch 73/100\n",
      "2399/2399 [==============================] - 8s 3ms/step - loss: 0.0232 - accuracy: 0.9876\n",
      "Epoch 74/100\n",
      "2399/2399 [==============================] - 8s 3ms/step - loss: 0.0234 - accuracy: 0.9874\n",
      "Epoch 75/100\n",
      "2399/2399 [==============================] - 8s 3ms/step - loss: 0.0234 - accuracy: 0.9873\n",
      "Epoch 76/100\n",
      "2399/2399 [==============================] - 8s 3ms/step - loss: 0.0234 - accuracy: 0.9873\n",
      "Epoch 77/100\n",
      "2399/2399 [==============================] - 8s 3ms/step - loss: 0.0235 - accuracy: 0.9875\n",
      "Epoch 78/100\n",
      "2399/2399 [==============================] - 8s 3ms/step - loss: 0.0235 - accuracy: 0.9875\n",
      "Epoch 79/100\n"
     ]
    },
    {
     "name": "stdout",
     "output_type": "stream",
     "text": [
      "2399/2399 [==============================] - 8s 3ms/step - loss: 0.0233 - accuracy: 0.9877\n",
      "Epoch 80/100\n",
      "2399/2399 [==============================] - 8s 4ms/step - loss: 0.0235 - accuracy: 0.9877\n",
      "Epoch 81/100\n",
      "2399/2399 [==============================] - 9s 4ms/step - loss: 0.0233 - accuracy: 0.9875\n",
      "Epoch 82/100\n",
      "2399/2399 [==============================] - 8s 3ms/step - loss: 0.0232 - accuracy: 0.9875\n",
      "Epoch 83/100\n",
      "2399/2399 [==============================] - 9s 4ms/step - loss: 0.0233 - accuracy: 0.9876\n",
      "Epoch 84/100\n",
      "2399/2399 [==============================] - 8s 3ms/step - loss: 0.0233 - accuracy: 0.9873\n",
      "Epoch 85/100\n",
      "2399/2399 [==============================] - 8s 3ms/step - loss: 0.0233 - accuracy: 0.9877\n",
      "Epoch 86/100\n",
      "2399/2399 [==============================] - 8s 4ms/step - loss: 0.0234 - accuracy: 0.9874\n",
      "Epoch 87/100\n",
      "2399/2399 [==============================] - 8s 4ms/step - loss: 0.0232 - accuracy: 0.9873\n",
      "Epoch 88/100\n",
      "2399/2399 [==============================] - 9s 4ms/step - loss: 0.0232 - accuracy: 0.9876\n",
      "Epoch 89/100\n",
      "2399/2399 [==============================] - 8s 4ms/step - loss: 0.0234 - accuracy: 0.9873\n",
      "Epoch 90/100\n",
      "2399/2399 [==============================] - 9s 4ms/step - loss: 0.0234 - accuracy: 0.9872\n",
      "Epoch 91/100\n",
      "2399/2399 [==============================] - 9s 4ms/step - loss: 0.0234 - accuracy: 0.9869\n",
      "Epoch 92/100\n",
      "2399/2399 [==============================] - 7s 3ms/step - loss: 0.0235 - accuracy: 0.9876\n",
      "Epoch 93/100\n",
      "2399/2399 [==============================] - 8s 4ms/step - loss: 0.0234 - accuracy: 0.9871\n",
      "Epoch 94/100\n",
      "2399/2399 [==============================] - 8s 3ms/step - loss: 0.0234 - accuracy: 0.9873\n",
      "Epoch 95/100\n",
      "2399/2399 [==============================] - 8s 3ms/step - loss: 0.0233 - accuracy: 0.9878\n",
      "Epoch 96/100\n",
      "2399/2399 [==============================] - 8s 3ms/step - loss: 0.0231 - accuracy: 0.9878\n",
      "Epoch 97/100\n",
      "2399/2399 [==============================] - 8s 3ms/step - loss: 0.0233 - accuracy: 0.9878\n",
      "Epoch 98/100\n",
      "2399/2399 [==============================] - 8s 3ms/step - loss: 0.0233 - accuracy: 0.9876\n",
      "Epoch 99/100\n",
      "2399/2399 [==============================] - 8s 3ms/step - loss: 0.0233 - accuracy: 0.9876\n",
      "Epoch 100/100\n",
      "2399/2399 [==============================] - 8s 3ms/step - loss: 0.0236 - accuracy: 0.9873\n"
     ]
    }
   ],
   "source": [
    "#Fitting ANN\n",
    "# model =  ann.fit(X_train,Y_train,batch_size=32,epochs = 100)"
   ]
  },
  {
   "cell_type": "code",
   "execution_count": 98,
   "id": "77c7e138",
   "metadata": {},
   "outputs": [],
   "source": [
    "# ann.save('ANN.h5')"
   ]
  },
  {
   "cell_type": "code",
   "execution_count": 99,
   "id": "4e487c48",
   "metadata": {},
   "outputs": [],
   "source": [
    "# from tensorflow import keras\n",
    "# ann = keras.models.load_model('./ANN.h5')"
   ]
  },
  {
   "cell_type": "code",
   "execution_count": 100,
   "id": "18fee7eb",
   "metadata": {},
   "outputs": [
    {
     "name": "stdout",
     "output_type": "stream",
     "text": [
      "600/600 [==============================] - 1s 2ms/step - loss: 0.0229 - accuracy: 0.9867\n"
     ]
    }
   ],
   "source": [
    "score = ann.evaluate(X_test,Y_test)"
   ]
  },
  {
   "cell_type": "code",
   "execution_count": 101,
   "id": "3fef2d1e",
   "metadata": {},
   "outputs": [
    {
     "data": {
      "text/plain": [
       "[0.022930484265089035, 0.9866583347320557]"
      ]
     },
     "execution_count": 101,
     "metadata": {},
     "output_type": "execute_result"
    }
   ],
   "source": [
    "# score"
   ]
  },
  {
   "cell_type": "code",
   "execution_count": 102,
   "id": "adf3985d",
   "metadata": {},
   "outputs": [
    {
     "data": {
      "text/plain": [
       "{'loss': [0.024322493001818657,\n",
       "  0.0241668913513422,\n",
       "  0.024152325466275215,\n",
       "  0.02405010722577572,\n",
       "  0.023984408006072044,\n",
       "  0.02403758093714714,\n",
       "  0.024065516889095306,\n",
       "  0.023912720382213593,\n",
       "  0.0241582989692688,\n",
       "  0.0239716749638319,\n",
       "  0.023832378908991814,\n",
       "  0.023914359509944916,\n",
       "  0.02380821481347084,\n",
       "  0.023676784709095955,\n",
       "  0.02379516139626503,\n",
       "  0.023743074387311935,\n",
       "  0.02372853457927704,\n",
       "  0.02373526804149151,\n",
       "  0.023563023656606674,\n",
       "  0.02382524311542511,\n",
       "  0.02360396273434162,\n",
       "  0.023805594071745872,\n",
       "  0.02377943880856037,\n",
       "  0.02340829372406006,\n",
       "  0.023760663345456123,\n",
       "  0.023493891581892967,\n",
       "  0.023622719570994377,\n",
       "  0.023664595559239388,\n",
       "  0.023615246638655663,\n",
       "  0.023638995364308357,\n",
       "  0.023554690182209015,\n",
       "  0.023606592789292336,\n",
       "  0.02352912724018097,\n",
       "  0.02354246750473976,\n",
       "  0.023577136918902397,\n",
       "  0.023337053135037422,\n",
       "  0.02344052493572235,\n",
       "  0.02345851995050907,\n",
       "  0.023513976484537125,\n",
       "  0.023674989119172096,\n",
       "  0.023459378629922867,\n",
       "  0.023320704698562622,\n",
       "  0.023739876225590706,\n",
       "  0.02334735356271267,\n",
       "  0.023377440869808197,\n",
       "  0.023500528186559677,\n",
       "  0.023464789614081383,\n",
       "  0.023598438128829002,\n",
       "  0.023563753813505173,\n",
       "  0.023551376536488533,\n",
       "  0.023239534348249435,\n",
       "  0.023399164900183678,\n",
       "  0.023441655561327934,\n",
       "  0.023531759157776833,\n",
       "  0.023696180433034897,\n",
       "  0.02347663789987564,\n",
       "  0.023433687165379524,\n",
       "  0.023420806974172592,\n",
       "  0.023379987105727196,\n",
       "  0.02327895164489746,\n",
       "  0.02339755930006504,\n",
       "  0.023649971932172775,\n",
       "  0.02346768043935299,\n",
       "  0.023432184010744095,\n",
       "  0.02312174066901207,\n",
       "  0.02350831963121891,\n",
       "  0.023539934307336807,\n",
       "  0.023315152153372765,\n",
       "  0.02354907989501953,\n",
       "  0.02343061938881874,\n",
       "  0.02330673113465309,\n",
       "  0.023349566385149956,\n",
       "  0.02322901040315628,\n",
       "  0.023373916745185852,\n",
       "  0.023370325565338135,\n",
       "  0.023387612774968147,\n",
       "  0.023474697023630142,\n",
       "  0.0234842486679554,\n",
       "  0.023267336189746857,\n",
       "  0.023457111790776253,\n",
       "  0.023306911811232567,\n",
       "  0.023226937279105186,\n",
       "  0.02333195134997368,\n",
       "  0.023334378376603127,\n",
       "  0.02328765019774437,\n",
       "  0.023359304293990135,\n",
       "  0.02323133870959282,\n",
       "  0.023246828466653824,\n",
       "  0.023401837795972824,\n",
       "  0.023431256413459778,\n",
       "  0.02337975986301899,\n",
       "  0.02346203476190567,\n",
       "  0.0234176367521286,\n",
       "  0.023443972691893578,\n",
       "  0.023258483037352562,\n",
       "  0.02314518764615059,\n",
       "  0.023311788216233253,\n",
       "  0.023312974721193314,\n",
       "  0.023304155096411705,\n",
       "  0.023578643798828125],\n",
       " 'accuracy': [0.9874133467674255,\n",
       "  0.9873872995376587,\n",
       "  0.9875045418739319,\n",
       "  0.9874133467674255,\n",
       "  0.987465500831604,\n",
       "  0.9871267080307007,\n",
       "  0.9873872995376587,\n",
       "  0.9875827431678772,\n",
       "  0.9874524474143982,\n",
       "  0.9872961044311523,\n",
       "  0.987217903137207,\n",
       "  0.9871527552604675,\n",
       "  0.9873872995376587,\n",
       "  0.9871006608009338,\n",
       "  0.9873090982437134,\n",
       "  0.9875436425209045,\n",
       "  0.9874393939971924,\n",
       "  0.9873351454734802,\n",
       "  0.9875306487083435,\n",
       "  0.9876999855041504,\n",
       "  0.9871788024902344,\n",
       "  0.9874002933502197,\n",
       "  0.987465500831604,\n",
       "  0.9872830510139465,\n",
       "  0.9873742461204529,\n",
       "  0.987739086151123,\n",
       "  0.987595796585083,\n",
       "  0.9874524474143982,\n",
       "  0.9871006608009338,\n",
       "  0.9873742461204529,\n",
       "  0.9874524474143982,\n",
       "  0.9878302812576294,\n",
       "  0.9877912402153015,\n",
       "  0.9873872995376587,\n",
       "  0.9874002933502197,\n",
       "  0.9873872995376587,\n",
       "  0.9875175952911377,\n",
       "  0.987348198890686,\n",
       "  0.9875045418739319,\n",
       "  0.9873872995376587,\n",
       "  0.9876478910446167,\n",
       "  0.9875696897506714,\n",
       "  0.986957311630249,\n",
       "  0.9875566959381104,\n",
       "  0.9873742461204529,\n",
       "  0.9872439503669739,\n",
       "  0.9876609444618225,\n",
       "  0.9871918559074402,\n",
       "  0.9874524474143982,\n",
       "  0.9873090982437134,\n",
       "  0.9878302812576294,\n",
       "  0.9874264001846313,\n",
       "  0.9871527552604675,\n",
       "  0.9873612523078918,\n",
       "  0.9871658086776733,\n",
       "  0.9875827431678772,\n",
       "  0.9872570037841797,\n",
       "  0.9873872995376587,\n",
       "  0.9872048497200012,\n",
       "  0.9874393939971924,\n",
       "  0.9876609444618225,\n",
       "  0.9871397018432617,\n",
       "  0.9873612523078918,\n",
       "  0.9875306487083435,\n",
       "  0.9878824353218079,\n",
       "  0.9877781867980957,\n",
       "  0.9874393939971924,\n",
       "  0.9876218438148499,\n",
       "  0.9872830510139465,\n",
       "  0.9876348376274109,\n",
       "  0.9873351454734802,\n",
       "  0.9877130389213562,\n",
       "  0.987595796585083,\n",
       "  0.9874393939971924,\n",
       "  0.9873221516609192,\n",
       "  0.9872570037841797,\n",
       "  0.9874524474143982,\n",
       "  0.987465500831604,\n",
       "  0.9877130389213562,\n",
       "  0.9876609444618225,\n",
       "  0.9874524474143982,\n",
       "  0.9875045418739319,\n",
       "  0.9875827431678772,\n",
       "  0.9872570037841797,\n",
       "  0.9876739382743835,\n",
       "  0.9873742461204529,\n",
       "  0.9872699975967407,\n",
       "  0.987595796585083,\n",
       "  0.9872570037841797,\n",
       "  0.9872309565544128,\n",
       "  0.9869312644004822,\n",
       "  0.9875566959381104,\n",
       "  0.9870745539665222,\n",
       "  0.9873221516609192,\n",
       "  0.9878433346748352,\n",
       "  0.9877651333808899,\n",
       "  0.9878042340278625,\n",
       "  0.9876348376274109,\n",
       "  0.9875566959381104,\n",
       "  0.987348198890686]}"
      ]
     },
     "execution_count": 102,
     "metadata": {},
     "output_type": "execute_result"
    }
   ],
   "source": [
    "model.history"
   ]
  },
  {
   "cell_type": "code",
   "execution_count": 106,
   "id": "856c8497",
   "metadata": {},
   "outputs": [],
   "source": [
    "# hist_df = pd.DataFrame(model.history) \n",
    "# # save to json:  \n",
    "# hist_json_file = 'history.json' \n",
    "# with open(hist_json_file, mode='w') as f:\n",
    "#     hist_df.to_json(f)\n",
    "# # or save to csv: \n",
    "# hist_csv_file = 'history.csv'\n",
    "# with open(hist_csv_file, mode='w') as f:\n",
    "#     hist_df.to_csv(f)"
   ]
  },
  {
   "cell_type": "code",
   "execution_count": 112,
   "id": "9c1ceb9f",
   "metadata": {},
   "outputs": [
    {
     "data": {
      "image/png": "[encoded data removed]",
      "text/plain": [
       "<Figure size 432x288 with 1 Axes>"
      ]
     },
     "metadata": {
      "needs_background": "light"
     },
     "output_type": "display_data"
    }
   ],
   "source": [
    "plt.plot(model.history['accuracy'])\n",
    "# plt.plot(model.history['loss'])\n",
    "plt.title('model accuracy')\n",
    "plt.ylabel('accuracy')\n",
    "plt.xlabel('epoch')\n",
    "plt.legend(['train', 'val'], loc='upper left')\n",
    "plt.show()"
   ]
  },
  {
   "cell_type": "code",
   "execution_count": 113,
   "id": "c8f12bcf",
   "metadata": {},
   "outputs": [
    {
     "data": {
      "image/png": "[encoded data removed]",
      "text/plain": [
       "<Figure size 432x288 with 1 Axes>"
      ]
     },
     "metadata": {
      "needs_background": "light"
     },
     "output_type": "display_data"
    }
   ],
   "source": [
    "#plt.plot(model.history['accuracy'])\n",
    "plt.plot(model.history['loss'])\n",
    "plt.title('model accuracy')\n",
    "plt.ylabel('accuracy')\n",
    "plt.xlabel('epoch')\n",
    "plt.legend(['train', 'val'], loc='upper left')\n",
    "plt.show()"
   ]
  },
  {
   "cell_type": "code",
   "execution_count": null,
   "id": "105f850a",
   "metadata": {},
   "outputs": [],
   "source": []
  }
 ],
 "metadata": {
  "kernelspec": {
   "display_name": "gpu_experimental",
   "language": "python",
   "name": "gpu_experimental"
  },
  "language_info": {
   "codemirror_mode": {
    "name": "ipython",
    "version": 3
   },
   "file_extension": ".py",
   "mimetype": "text/x-python",
   "name": "python",
   "nbconvert_exporter": "python",
   "pygments_lexer": "ipython3",
   "version": "3.8.12"
  }
 },
 "nbformat": 4,
 "nbformat_minor": 5
}
